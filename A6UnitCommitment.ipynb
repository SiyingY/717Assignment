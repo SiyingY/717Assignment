{
 "cells": [
  {
   "cell_type": "code",
   "execution_count": 1,
   "id": "e3c407f4",
   "metadata": {
    "scrolled": true
   },
   "outputs": [
    {
     "name": "stdout",
     "output_type": "stream",
     "text": [
      "Requirement already satisfied: pyomo in c:\\users\\siying yi\\anaconda3\\lib\\site-packages (6.5.0)\n",
      "Requirement already satisfied: ply in c:\\users\\siying yi\\anaconda3\\lib\\site-packages (from pyomo) (3.11)\n"
     ]
    }
   ],
   "source": [
    "!pip install pyomo"
   ]
  },
  {
   "cell_type": "code",
   "execution_count": 2,
   "id": "89ef0deb",
   "metadata": {},
   "outputs": [],
   "source": [
    "import os\n",
    "import pandas as pd\n",
    "import numpy as np\n",
    "import matplotlib.pyplot as plt\n",
    "from pyomo.environ import *\n",
    "opt = SolverFactory('cplex').executable = 'D:\\download\\glpk-4.65\\w64'"
   ]
  },
  {
   "cell_type": "code",
   "execution_count": null,
   "id": "8cd36d04",
   "metadata": {},
   "outputs": [],
   "source": [
    "#SolverFactory('glpk', executable='D:\\download\\glpk-4.65\\w64\\glpsol.exe').solve(m).write()"
   ]
  },
  {
   "cell_type": "code",
   "execution_count": 16,
   "id": "b2c7d82e",
   "metadata": {},
   "outputs": [],
   "source": [
    "#df_dmd =pd.read_excel(\"Desktop/717/Assignment/A3pjmdmd_bids.xlsx\", \n",
    "                     #  sheet_name=\"hrl_dmd_bids\",keep_default_na=False,header=0)\n",
    "\n",
    "#Read generators and demand data as two dataframes  Desktop717data\n",
    "df_genData=pd.read_excel(\"Desktop/717/data/A6Q3.xlsx\",sheet_name=\"GeneratorsData\") #read data from generators tab and skip the first row\n",
    "df_demandData=pd.read_excel(\"Desktop/717/data/A6Q3.xlsx\",sheet_name=\"DemandData\") #read data from generators tab and skip the first row"
   ]
  },
  {
   "cell_type": "code",
   "execution_count": 4,
   "id": "917a09ad",
   "metadata": {},
   "outputs": [
    {
     "data": {
      "text/html": [
       "<div>\n",
       "<style scoped>\n",
       "    .dataframe tbody tr th:only-of-type {\n",
       "        vertical-align: middle;\n",
       "    }\n",
       "\n",
       "    .dataframe tbody tr th {\n",
       "        vertical-align: top;\n",
       "    }\n",
       "\n",
       "    .dataframe thead th {\n",
       "        text-align: right;\n",
       "    }\n",
       "</style>\n",
       "<table border=\"1\" class=\"dataframe\">\n",
       "  <thead>\n",
       "    <tr style=\"text-align: right;\">\n",
       "      <th></th>\n",
       "      <th>Demand</th>\n",
       "    </tr>\n",
       "  </thead>\n",
       "  <tbody>\n",
       "    <tr>\n",
       "      <th>0</th>\n",
       "      <td>240</td>\n",
       "    </tr>\n",
       "    <tr>\n",
       "      <th>1</th>\n",
       "      <td>250</td>\n",
       "    </tr>\n",
       "    <tr>\n",
       "      <th>2</th>\n",
       "      <td>200</td>\n",
       "    </tr>\n",
       "    <tr>\n",
       "      <th>3</th>\n",
       "      <td>170</td>\n",
       "    </tr>\n",
       "    <tr>\n",
       "      <th>4</th>\n",
       "      <td>230</td>\n",
       "    </tr>\n",
       "  </tbody>\n",
       "</table>\n",
       "</div>"
      ],
      "text/plain": [
       "   Demand\n",
       "0     240\n",
       "1     250\n",
       "2     200\n",
       "3     170\n",
       "4     230"
      ]
     },
     "execution_count": 4,
     "metadata": {},
     "output_type": "execute_result"
    }
   ],
   "source": [
    "\n",
    "df_demandData.head(5)"
   ]
  },
  {
   "cell_type": "code",
   "execution_count": 5,
   "id": "625e74f5",
   "metadata": {
    "scrolled": true
   },
   "outputs": [
    {
     "data": {
      "text/html": [
       "<div>\n",
       "<style scoped>\n",
       "    .dataframe tbody tr th:only-of-type {\n",
       "        vertical-align: middle;\n",
       "    }\n",
       "\n",
       "    .dataframe tbody tr th {\n",
       "        vertical-align: top;\n",
       "    }\n",
       "\n",
       "    .dataframe thead th {\n",
       "        text-align: right;\n",
       "    }\n",
       "</style>\n",
       "<table border=\"1\" class=\"dataframe\">\n",
       "  <thead>\n",
       "    <tr style=\"text-align: right;\">\n",
       "      <th></th>\n",
       "      <th>NumGen</th>\n",
       "      <th>FixedCost</th>\n",
       "      <th>SDCost</th>\n",
       "      <th>SUCost</th>\n",
       "      <th>VarCost</th>\n",
       "      <th>MaxGen</th>\n",
       "      <th>MinGen</th>\n",
       "      <th>RampDown</th>\n",
       "      <th>RampSD</th>\n",
       "      <th>RampSU</th>\n",
       "      <th>RampUp</th>\n",
       "      <th>MinUpTime</th>\n",
       "      <th>MinDownTime</th>\n",
       "      <th>ReqUp</th>\n",
       "      <th>ReqDown</th>\n",
       "      <th>InitialStatus</th>\n",
       "      <th>InitialGen</th>\n",
       "    </tr>\n",
       "  </thead>\n",
       "  <tbody>\n",
       "    <tr>\n",
       "      <th>0</th>\n",
       "      <td>1</td>\n",
       "      <td>0</td>\n",
       "      <td>0</td>\n",
       "      <td>800</td>\n",
       "      <td>5</td>\n",
       "      <td>300</td>\n",
       "      <td>80</td>\n",
       "      <td>30</td>\n",
       "      <td>30</td>\n",
       "      <td>100</td>\n",
       "      <td>50</td>\n",
       "      <td>3</td>\n",
       "      <td>2</td>\n",
       "      <td>2</td>\n",
       "      <td>0</td>\n",
       "      <td>1</td>\n",
       "      <td>130</td>\n",
       "    </tr>\n",
       "    <tr>\n",
       "      <th>1</th>\n",
       "      <td>2</td>\n",
       "      <td>0</td>\n",
       "      <td>0</td>\n",
       "      <td>500</td>\n",
       "      <td>15</td>\n",
       "      <td>200</td>\n",
       "      <td>50</td>\n",
       "      <td>40</td>\n",
       "      <td>40</td>\n",
       "      <td>70</td>\n",
       "      <td>60</td>\n",
       "      <td>2</td>\n",
       "      <td>2</td>\n",
       "      <td>0</td>\n",
       "      <td>0</td>\n",
       "      <td>0</td>\n",
       "      <td>0</td>\n",
       "    </tr>\n",
       "    <tr>\n",
       "      <th>2</th>\n",
       "      <td>3</td>\n",
       "      <td>0</td>\n",
       "      <td>0</td>\n",
       "      <td>250</td>\n",
       "      <td>30</td>\n",
       "      <td>100</td>\n",
       "      <td>30</td>\n",
       "      <td>50</td>\n",
       "      <td>50</td>\n",
       "      <td>40</td>\n",
       "      <td>70</td>\n",
       "      <td>1</td>\n",
       "      <td>2</td>\n",
       "      <td>0</td>\n",
       "      <td>0</td>\n",
       "      <td>0</td>\n",
       "      <td>0</td>\n",
       "    </tr>\n",
       "  </tbody>\n",
       "</table>\n",
       "</div>"
      ],
      "text/plain": [
       "   NumGen  FixedCost  SDCost  SUCost  VarCost  MaxGen  MinGen  RampDown  \\\n",
       "0       1          0       0     800        5     300      80        30   \n",
       "1       2          0       0     500       15     200      50        40   \n",
       "2       3          0       0     250       30     100      30        50   \n",
       "\n",
       "   RampSD  RampSU  RampUp  MinUpTime  MinDownTime  ReqUp  ReqDown  \\\n",
       "0      30     100      50          3            2      2        0   \n",
       "1      40      70      60          2            2      0        0   \n",
       "2      50      40      70          1            2      0        0   \n",
       "\n",
       "   InitialStatus  InitialGen  \n",
       "0              1         130  \n",
       "1              0           0  \n",
       "2              0           0  "
      ]
     },
     "execution_count": 5,
     "metadata": {},
     "output_type": "execute_result"
    }
   ],
   "source": [
    "df_genData.head(5)"
   ]
  },
  {
   "cell_type": "code",
   "execution_count": 6,
   "id": "367f6f85",
   "metadata": {},
   "outputs": [
    {
     "name": "stdout",
     "output_type": "stream",
     "text": [
      "We read technical parameters data for 3 power generating units\n",
      "We read demand data for 6 time periods\n"
     ]
    }
   ],
   "source": [
    "#define the size of the sets\n",
    "NumGen=len(df_genData)\n",
    "T=len(df_demandData)\n",
    "print(\"We read technical parameters data for\", NumGen, \"power generating units\")\n",
    "print(\"We read demand data for\", T, \"time periods\")"
   ]
  },
  {
   "cell_type": "code",
   "execution_count": 7,
   "id": "eb91435a",
   "metadata": {},
   "outputs": [],
   "source": [
    "\n",
    "#Define Indexes\n",
    "N=np.array([n for n in range(0,NumGen)]) #This array has 2 components, but the index starts at zero\n",
    "T=np.array([t for t in range(0,T)])"
   ]
  },
  {
   "cell_type": "code",
   "execution_count": 8,
   "id": "6b8ddfc8",
   "metadata": {},
   "outputs": [
    {
     "data": {
      "text/plain": [
       "array([0, 1, 2, 3, 4, 5])"
      ]
     },
     "execution_count": 8,
     "metadata": {},
     "output_type": "execute_result"
    }
   ],
   "source": [
    "T"
   ]
  },
  {
   "cell_type": "code",
   "execution_count": 9,
   "id": "e40581e2",
   "metadata": {},
   "outputs": [
    {
     "data": {
      "text/plain": [
       "Index(['NumGen', 'FixedCost', 'SDCost', 'SUCost', 'VarCost', 'MaxGen',\n",
       "       'MinGen', 'RampDown', 'RampSD', 'RampSU', 'RampUp', 'MinUpTime',\n",
       "       'MinDownTime', 'ReqUp', 'ReqDown', 'InitialStatus', 'InitialGen'],\n",
       "      dtype='object')"
      ]
     },
     "execution_count": 9,
     "metadata": {},
     "output_type": "execute_result"
    }
   ],
   "source": [
    "df_genData.columns"
   ]
  },
  {
   "cell_type": "code",
   "execution_count": 10,
   "id": "9ecc8bf7",
   "metadata": {
    "scrolled": true
   },
   "outputs": [
    {
     "name": "stdout",
     "output_type": "stream",
     "text": [
      "The parameters of the generator with largest Gen capacity are NumGen             1\n",
      "FixedCost          0\n",
      "SDCost             0\n",
      "SUCost           800\n",
      "VarCost            5\n",
      "MaxGen           300\n",
      "MinGen            80\n",
      "RampDown          30\n",
      "RampSD            30\n",
      "RampSU           100\n",
      "RampUp            50\n",
      "MinUpTime          3\n",
      "MinDownTime        2\n",
      "ReqUp              2\n",
      "ReqDown            0\n",
      "InitialStatus      1\n",
      "InitialGen       130\n",
      "Name: 0, dtype: int64\n",
      "The Name Plate Capacity of the largest generator is 300\n"
     ]
    }
   ],
   "source": [
    "#get the NamePlate capacity of the largest generator to use it as the upper bound of the pg,t, decision variables\n",
    "#This step is optional. You can leave pg,t unbounded.\n",
    "largestGen=df_genData.loc[df_genData[\"MaxGen\"].idxmax()] #largestGen is a series object \n",
    "print('The parameters of the generator with largest Gen capacity are',largestGen)\n",
    "MaxGenCapacity=largestGen.MaxGen \n",
    "print(\"The Name Plate Capacity of the largest generator is\",MaxGenCapacity)"
   ]
  },
  {
   "cell_type": "code",
   "execution_count": 17,
   "id": "3fcde49f",
   "metadata": {},
   "outputs": [],
   "source": [
    "FixCost=df_genData.loc[:,'FixedCost'].to_numpy()\n",
    "SDCost=df_genData.loc[:,'SDCost'].to_numpy()\n",
    "SUCost=df_genData.loc[:,'SUCost'].to_numpy()\n",
    "VarCost=df_genData.loc[:,'VarCost'].to_numpy()\n",
    "PMax=df_genData.loc[:,'MaxGen'].to_numpy()\n",
    "PMin=df_genData.loc[:,'MinGen'].to_numpy()\n",
    "RampDown=df_genData.loc[:,'RampDown'].to_numpy()\n",
    "RampSD=df_genData.loc[:,'RampSD'].to_numpy()\n",
    "RampSU=df_genData.loc[:,'RampSU'].to_numpy()\n",
    "RampUp=df_genData.loc[:,'RampUp'].to_numpy()\n",
    "InitialStatus=df_genData.loc[:,'InitialStatus'].to_numpy()\n",
    "InitialGen=df_genData.loc[:,'InitialGen'].to_numpy()\n",
    "Demand=df_demandData.loc[:,'Demand'].to_numpy()\n",
    "#MinUpTime      \n",
    "#MinDownTime    \n",
    "#ReqUp \n",
    "#ReqDown  \n",
    "#InitialGen \n",
    "\n"
   ]
  },
  {
   "cell_type": "code",
   "execution_count": 18,
   "id": "93a014d3",
   "metadata": {
    "scrolled": false
   },
   "outputs": [
    {
     "name": "stdout",
     "output_type": "stream",
     "text": [
      "[240 250 200 170 230 190]\n"
     ]
    }
   ],
   "source": [
    "print(Demand)"
   ]
  },
  {
   "cell_type": "code",
   "execution_count": 19,
   "id": "7880fe20",
   "metadata": {
    "scrolled": true
   },
   "outputs": [],
   "source": [
    "#UC MODEL\n",
    "def Unit_Commitment():\n",
    "    m=ConcreteModel()\n",
    "    m.N=Set(initialize=N)\n",
    "    m.T=Set(initialize=T)\n",
    "    m.x=Var(m.N, m.T, bounds = (0,MaxGenCapacity))\n",
    "    m.u=Var(m.N, m.T, domain=Binary)\n",
    "    m.y=Var(m.N, m.T, domain=Binary)\n",
    "    m.z=Var(m.N, m.T, domain=Binary)\n",
    "    \n",
    "    m.system_cost=Objective(expr=sum(m.x[n,t]*VarCost[n]+m.u[n,t]*FixCost[n]+ SUCost[n]*m.y[n,t] + SDCost[n]*m.z[n,t] for n in m.N for t in m.T), sense=minimize)\n",
    "    \n",
    "    m.DemandConstraint=Constraint(m.T, rule=lambda m, t: sum(m.x[n,t] for n in N) == Demand[t])\n",
    "    \n",
    "    m.MinPower=Constraint(m.N, m.T, rule=lambda m, n, t: PMin[n]*m.u[n,t] <= m.x[n,t])\n",
    "    m.MaxPower=Constraint(m.N, m.T, rule=lambda m, n, t: PMax[n]*m.u[n,t] >= m.x[n,t])\n",
    "    \n",
    "    # Constraint to ensure y and z are mutually exclusive for each unit and time period ok\n",
    "    m.StartShutExclusive = Constraint(m.N, m.T, rule=lambda m, n, t: m.y[n,t] + m.z[n,t] <= 1)\n",
    "    \n",
    "    # Constraint to ensure that for each unit and time period, y minus z equals u at t minus u at t-1\n",
    "    \n",
    "    m.StartStop = Constraint(m.N, m.T, rule=lambda m, n, t:\n",
    "                             m.y[n,t] - m.z[n,t] == m.u[n,t] - m.u[n,t-1] if t > 0 else\n",
    "                             m.y[n,t] - m.z[n,t] == m.u[n,t] - InitialStatus[n])\n",
    "\n",
    "\n",
    "    # Add constraints on ramping-up feasibility , when t=0 and t>0\n",
    "    m.RampUpConstraint = Constraint(m.N, m.T, rule=lambda m, n, t:\n",
    "                                     m.x[n,t] - m.x[n,t-1] <= RampUp[n]*m.u[n,t] + RampSU[n]*m.y[n,t] if t>0 else\n",
    "                                     m.x[n,t] - InitialGen[n] <= RampUp[n]*InitialStatus[n] + RampSU[n]*m.y[n,t])\n",
    "\n",
    "    \n",
    "    # Add constraints on ramping-up feasibility , when t=0 and t>0\n",
    "    m.RampDownConstraint = Constraint(m.N, m.T, rule=lambda m, n, t:\n",
    "                                     m.x[n,t-1] - m.x[n,t] <= RampDown[n]*m.u[n,t] + RampSD[n]*m.z[n,t] if t>0 else \n",
    "                                     InitialGen[n] - m.x[n,t] <= RampDown[n]*m.u[n,t] + RampSD[n]*m.z[n,t])\n",
    "    \n",
    "\n",
    "\n",
    "    return m\n",
    "\n",
    "\n"
   ]
  },
  {
   "cell_type": "code",
   "execution_count": 21,
   "id": "fe3ed6fb",
   "metadata": {
    "scrolled": false
   },
   "outputs": [
    {
     "name": "stdout",
     "output_type": "stream",
     "text": [
      "# ==========================================================\n",
      "# = Solver Results                                         =\n",
      "# ==========================================================\n",
      "# ----------------------------------------------------------\n",
      "#   Problem Information\n",
      "# ----------------------------------------------------------\n",
      "Problem: \n",
      "- Name: unknown\n",
      "  Lower bound: 10300.0\n",
      "  Upper bound: 10300.0\n",
      "  Number of objectives: 1\n",
      "  Number of constraints: 115\n",
      "  Number of variables: 73\n",
      "  Number of nonzeros: 331\n",
      "  Sense: minimize\n",
      "# ----------------------------------------------------------\n",
      "#   Solver Information\n",
      "# ----------------------------------------------------------\n",
      "Solver: \n",
      "- Status: ok\n",
      "  Termination condition: optimal\n",
      "  Statistics: \n",
      "    Branch and bound: \n",
      "      Number of bounded subproblems: 15\n",
      "      Number of created subproblems: 15\n",
      "  Error rc: 0\n",
      "  Time: 0.09446525573730469\n",
      "# ----------------------------------------------------------\n",
      "#   Solution Information\n",
      "# ----------------------------------------------------------\n",
      "Solution: \n",
      "- number of solutions: 0\n",
      "  number of solutions displayed: 0\n"
     ]
    }
   ],
   "source": [
    "#m=Unit_Commitment()\n",
    "#SolverFactory('glpk').solve(m).write() # Instead of this line, write \"opt.solve(m)\" if model's details are not important\n",
    "\n",
    "#m = Unit_Commitment()\n",
    "#SolverFactory('glpk').opt.solve(m)\n",
    "\n",
    "m=Unit_Commitment()\n",
    "SolverFactory('glpk',executable='D:\\download\\glpk-4.65\\w64\\glpsol.exe').solve(m).write()"
   ]
  },
  {
   "cell_type": "code",
   "execution_count": 22,
   "id": "88211835",
   "metadata": {},
   "outputs": [
    {
     "name": "stdout",
     "output_type": "stream",
     "text": [
      "SOLUTION\n",
      "The total system cost is = $ 10300.0\n",
      "Commitment and Generation\n",
      "n =  0  t =  0   u[0,0] 1   0   0  180.00\n",
      "n =  0  t =  1   u[0,1] 1   0   0  180.00\n",
      "n =  0  t =  2   u[0,2] 1   0   0  150.00\n",
      "n =  0  t =  3   u[0,3] 1   0   0  120.00\n",
      "n =  0  t =  4   u[0,4] 1   0   0  170.00\n",
      "n =  0  t =  5   u[0,5] 1   0   0  140.00\n",
      "n =  1  t =  0   u[1,0] 1   1   0  60.00\n",
      "n =  1  t =  1   u[1,1] 1   0   0  70.00\n",
      "n =  1  t =  2   u[1,2] 1   0   0  50.00\n",
      "n =  1  t =  3   u[1,3] 1   0   0  50.00\n",
      "n =  1  t =  4   u[1,4] 1   0   0  60.00\n",
      "n =  1  t =  5   u[1,5] 1   0   0  50.00\n",
      "n =  2  t =  0   u[2,0] 0   0   0  0.00\n",
      "n =  2  t =  1   u[2,1] 0   0   0  0.00\n",
      "n =  2  t =  2   u[2,2] 0   0   0  0.00\n",
      "n =  2  t =  3   u[2,3] 0   0   0  0.00\n",
      "n =  2  t =  4   u[2,4] 0   0   0  0.00\n",
      "n =  2  t =  5   u[2,5] 0   0   0  0.00\n"
     ]
    }
   ],
   "source": [
    "print('SOLUTION')\n",
    "print('The total system cost is = $',m.system_cost())\n",
    "print('Commitment and Generation')\n",
    "for n in N:\n",
    "    for t in T:\n",
    "        print(\"n = {0:2d}  t = {1:2d}   {2} {3:.0f}   {4:.0f}   {5:.0f}  {6:.2f}\".format(n, t, m.u[n,t], m.u[n,t](),m.y[n,t](),m.z[n,t](), m.x[n,t]()))\n",
    "        #Line above makes columns the same width and formats the numbers of decimals for u and x. Line below has a messy format\n",
    "        #print(m.x[n,t],\" = \", m.x[n,t](), \"MWh\", m.u[n,t], \" =\", m.u[n,t]()) #this works too but format is messy"
   ]
  }
 ],
 "metadata": {
  "kernelspec": {
   "display_name": "Python 3 (ipykernel)",
   "language": "python",
   "name": "python3"
  },
  "language_info": {
   "codemirror_mode": {
    "name": "ipython",
    "version": 3
   },
   "file_extension": ".py",
   "mimetype": "text/x-python",
   "name": "python",
   "nbconvert_exporter": "python",
   "pygments_lexer": "ipython3",
   "version": "3.9.13"
  }
 },
 "nbformat": 4,
 "nbformat_minor": 5
}
