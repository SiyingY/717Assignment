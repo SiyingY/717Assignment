{
 "cells": [
  {
   "cell_type": "code",
   "execution_count": 1,
   "id": "3c66c9a4",
   "metadata": {},
   "outputs": [],
   "source": [
    "import os\n",
    "import pandas as pd\n",
    "import numpy as np\n",
    "import matplotlib.pyplot as plt\n",
    "from pyomo.environ import *\n",
    "opt = SolverFactory('glpk').executable = 'D:\\download\\glpk-4.65\\w64'"
   ]
  },
  {
   "cell_type": "code",
   "execution_count": 4,
   "id": "8d09267d",
   "metadata": {},
   "outputs": [],
   "source": [
    "#Read generators and demand data as two dataframes  Desktop717data\n",
    "df_genData=pd.read_excel(\"Desktop/717/data/A10-EDOnePeriodData.xlsx\",sheet_name=\"GeneratorsData\",skiprows=1) #read data from generators tab and skip the first row\n",
    "df_loadsData=pd.read_excel(\"Desktop/717/data/A10-EDOnePeriodData.xlsx\",sheet_name=\"LoadsData\",skiprows=1) #read data from generators tab and skip the first row\n",
    "df_linesData=pd.read_excel(\"Desktop/717/data/A10-EDOnePeriodData.xlsx\",sheet_name=\"LinesData\",skiprows=1) #read data from generators tab and skip the first row\n"
   ]
  },
  {
   "cell_type": "code",
   "execution_count": 5,
   "id": "27616cad",
   "metadata": {},
   "outputs": [
    {
     "name": "stdout",
     "output_type": "stream",
     "text": [
      "We read data for 4 power generating units\n",
      "We read data for 3 nodes\n",
      "We read data for 3 transmission lines\n"
     ]
    }
   ],
   "source": [
    "#define the size of the sets\n",
    "NumGens=len(df_genData)\n",
    "NumNodes=len(df_loadsData)\n",
    "NumLines=len(df_linesData)\n",
    "#T=len(df_demandData)\n",
    "print(\"We read data for\", NumGens, \"power generating units\")\n",
    "print(\"We read data for\", NumNodes, \"nodes\")\n",
    "print(\"We read data for\", NumLines, \"transmission lines\")"
   ]
  },
  {
   "cell_type": "code",
   "execution_count": 6,
   "id": "15181f98",
   "metadata": {},
   "outputs": [],
   "source": [
    "#Define Indexes\n",
    "G=np.array([g for g in range(0,NumGens)])  #This array has 4 components, but the index starts at zero\n",
    "N=np.array([n for n in range(0,NumNodes)])\n",
    "L=np.array([l for l in range(0,NumLines)])"
   ]
  },
  {
   "cell_type": "code",
   "execution_count": 7,
   "id": "39f282fe",
   "metadata": {
    "scrolled": true
   },
   "outputs": [
    {
     "data": {
      "text/plain": [
       "Index(['GenName', 'Node', 'FixedCost', 'SDCost', 'SUCost', 'VarCost', 'MaxGen',\n",
       "       'MinGen', 'RampDown', 'RampSD', 'RampSU', 'RampUp', 'MinUpTime',\n",
       "       'MinDownTime', 'ReqUp', 'ReqDown', 'InitialStatus', 'InitialGen'],\n",
       "      dtype='object')"
      ]
     },
     "execution_count": 7,
     "metadata": {},
     "output_type": "execute_result"
    }
   ],
   "source": [
    "df_genData.columns"
   ]
  },
  {
   "cell_type": "code",
   "execution_count": null,
   "id": "e3001082",
   "metadata": {},
   "outputs": [],
   "source": []
  },
  {
   "cell_type": "code",
   "execution_count": 8,
   "id": "b438ce0e",
   "metadata": {},
   "outputs": [],
   "source": [
    "##Declare the generator's parameters and assign them the data we read before\n",
    "VarCost=df_genData.loc[:,'VarCost'].to_numpy()\n",
    "PMax=df_genData.loc[:,'MaxGen'].to_numpy()\n",
    "PMin=df_genData.loc[:,'MinGen'].to_numpy()\n",
    "GenNode=df_genData.loc[:,'Node'].to_numpy()"
   ]
  },
  {
   "cell_type": "code",
   "execution_count": 9,
   "id": "a82f3fe8",
   "metadata": {},
   "outputs": [
    {
     "data": {
      "text/plain": [
       "Index(['LineName', 'NodeFrom', 'NodeTo', 'Reactance', 'Capacity'], dtype='object')"
      ]
     },
     "execution_count": 9,
     "metadata": {},
     "output_type": "execute_result"
    }
   ],
   "source": [
    "df_linesData.columns  #In the data we defined 3 lines as: L1-2, L2-3, and L3-1.\n",
    "#We could have defined them in other way, but this is convenient for the KVL equation"
   ]
  },
  {
   "cell_type": "code",
   "execution_count": 10,
   "id": "51b49d24",
   "metadata": {},
   "outputs": [],
   "source": [
    "##Declare the transmission lines' parameters and assign them the data we read before\n",
    "NodeFrom=df_linesData.loc[:,'NodeFrom'].to_numpy()\n",
    "NodeTo=df_linesData.loc[:,'NodeTo'].to_numpy()\n",
    "LineReactance=df_linesData.loc[:,'Reactance'].to_numpy()\n",
    "LineCapacity=df_linesData.loc[:,'Capacity'].to_numpy()"
   ]
  },
  {
   "cell_type": "code",
   "execution_count": 11,
   "id": "0fb7aae4",
   "metadata": {},
   "outputs": [
    {
     "data": {
      "text/plain": [
       "Index(['LoadName', 'Node', 'Demand'], dtype='object')"
      ]
     },
     "execution_count": 11,
     "metadata": {},
     "output_type": "execute_result"
    }
   ],
   "source": [
    "df_loadsData.columns"
   ]
  },
  {
   "cell_type": "code",
   "execution_count": 12,
   "id": "75eb4e4e",
   "metadata": {},
   "outputs": [],
   "source": [
    "LoadBus=df_loadsData.loc[:,'Node'].to_numpy( )\n",
    "Demand=df_loadsData.loc[:,'Demand'].to_numpy( )"
   ]
  },
  {
   "cell_type": "code",
   "execution_count": 42,
   "id": "52d784f3",
   "metadata": {},
   "outputs": [],
   "source": [
    "# define a function indicatorMatrix that creates indicator matrices to relate generators with their node\n",
    "# and relate lines with the nodes\n",
    "#dataRows is a column vector of NumRows rows. Each element says the column where this row should be a one in the final matrix\n",
    "def IndicatorMatrix(NumRows, NumCols, dataRows):\n",
    "    matrix= np.zeros((NumRows, NumCols),dtype=int)\n",
    "    for i in range(0,NumRows):\n",
    "        matrix[i,dataRows[i]-1]=1\n",
    "    return matrix\n"
   ]
  },
  {
   "cell_type": "code",
   "execution_count": 43,
   "id": "c158a759",
   "metadata": {},
   "outputs": [],
   "source": [
    "#Create indicator matrices using the function defined above\n",
    "#GeneratorInBus is a matrix of G rows and N columns that has 1 in the position g,n if generator g is AT node N, 0 otherwise\n",
    "GeneratorInBus=IndicatorMatrix(NumGens,NumNodes,GenNode)\n",
    "#LineFromBus is an indicator matrix of L rows and N columns that has 1 in the position l,n if line l departs FROM node N, 0 otherwise\n",
    "LineFromBus=IndicatorMatrix(NumLines,NumNodes,NodeFrom)\n",
    "#LineToBus is an indicator matrix of L rows and N columns that has 1 in the position l,n if line l arrives TO node N, 0 otherwise\n",
    "LineToBus=IndicatorMatrix(NumLines,NumNodes,NodeTo)"
   ]
  },
  {
   "cell_type": "code",
   "execution_count": 44,
   "id": "d016fbae",
   "metadata": {
    "scrolled": true
   },
   "outputs": [
    {
     "data": {
      "text/plain": [
       "array([[0, 1, 0],\n",
       "       [1, 0, 0],\n",
       "       [0, 0, 1],\n",
       "       [0, 0, 1]])"
      ]
     },
     "execution_count": 44,
     "metadata": {},
     "output_type": "execute_result"
    }
   ],
   "source": [
    "GeneratorInBus"
   ]
  },
  {
   "cell_type": "code",
   "execution_count": 45,
   "id": "a01c6340",
   "metadata": {},
   "outputs": [],
   "source": [
    "#UC MODEL\n",
    "def ED():\n",
    "    m=ConcreteModel()\n",
    "    #m.dual = Suffix(direction=Suffix.IMPORT_EXPORT)\n",
    "    m.dual = Suffix(direction=Suffix.IMPORT)#Create a 'dual' suffix component on the instance so the solver plugin will know which suffixes to collect\n",
    "    m.N=Set(initialize=N)\n",
    "    m.L=Set(initialize=L)\n",
    "    m.G=Set(initialize=G)\n",
    "    m.p=Var(m.G, bounds = (0,3500))#This is power generation. Could also declare as m.p=Var(m.G,within=PositiveReals)\n",
    "    m.flow=Var(m.L, bounds = (-1000,1000))#This is power flow on a line\n",
    "    m.system_cost=Objective(expr=sum(m.p[g]*VarCost[g] for g in m.G), sense=minimize)#Objective is to minimize costs\n",
    "    m.MaxGeneration=Constraint(m.G, rule=lambda m, g:  m.p[g] <= PMax[g])\n",
    "    m.NodePowerBalanceConstraint=Constraint(m.N, rule=lambda m, n: sum(LineToBus[l,n]*m.flow[l] for l in L)-sum(LineFromBus[l,n]*m.flow[l] for l in L)+sum(GeneratorInBus[g,n]*m.p[g] for g in G) == Demand[n])\n",
    "    m.KVLAroundLoopConstraint=Constraint(rule=lambda m: sum(LineReactance[l]*m.flow[l] for l in L)==0)#Note that in the data we defined the lines L1-2, L2-3, and L3,1 . That way the coefficient of each one in the KVL loop is positive 1.\n",
    "    m.MaxFlow=Constraint(m.L, rule=lambda m, l:  m.flow[l] <= LineCapacity[l])\n",
    "    m.MaxCounterFlow=Constraint(m.L, rule=lambda m, l:  m.flow[l] >= -LineCapacity[l])\n",
    "    return m"
   ]
  },
  {
   "cell_type": "code",
   "execution_count": 46,
   "id": "eaafbbe7",
   "metadata": {},
   "outputs": [
    {
     "name": "stdout",
     "output_type": "stream",
     "text": [
      "# ==========================================================\n",
      "# = Solver Results                                         =\n",
      "# ==========================================================\n",
      "# ----------------------------------------------------------\n",
      "#   Problem Information\n",
      "# ----------------------------------------------------------\n",
      "Problem: \n",
      "- Name: unknown\n",
      "  Lower bound: 4560.0\n",
      "  Upper bound: 4560.0\n",
      "  Number of objectives: 1\n",
      "  Number of constraints: 15\n",
      "  Number of variables: 8\n",
      "  Number of nonzeros: 24\n",
      "  Sense: minimize\n",
      "# ----------------------------------------------------------\n",
      "#   Solver Information\n",
      "# ----------------------------------------------------------\n",
      "Solver: \n",
      "- Status: ok\n",
      "  Termination condition: optimal\n",
      "  Statistics: \n",
      "    Branch and bound: \n",
      "      Number of bounded subproblems: 0\n",
      "      Number of created subproblems: 0\n",
      "  Error rc: 0\n",
      "  Time: 0.04851245880126953\n",
      "# ----------------------------------------------------------\n",
      "#   Solution Information\n",
      "# ----------------------------------------------------------\n",
      "Solution: \n",
      "- number of solutions: 0\n",
      "  number of solutions displayed: 0\n"
     ]
    }
   ],
   "source": [
    "m=ED()\n",
    "SolverFactory('glpk',executable='D:\\download\\glpk-4.65\\w64\\glpsol.exe').solve(m).write()"
   ]
  },
  {
   "cell_type": "code",
   "execution_count": 47,
   "id": "d3b2db7a",
   "metadata": {
    "scrolled": true
   },
   "outputs": [
    {
     "name": "stdout",
     "output_type": "stream",
     "text": [
      "SOLUTION\n",
      "The total system cost is = $ 4560.0\n",
      "Generation in MW\n",
      "generator  1 = 80 \n",
      "generator  2 = 0 \n",
      "generator  3 = 40 \n",
      "generator  4 = 400 \n",
      "Flow on transmission lines in MW\n",
      "line  1 = -150 \n",
      "line  2 = -150 \n",
      "line  3 = 250 \n",
      "LMPs in $/MWh\n",
      "Node  1 = 13.33\n",
      "Node  2 = 12.00\n",
      "Node  3 = 10.00\n"
     ]
    }
   ],
   "source": [
    "print('SOLUTION')\n",
    "print('The total system cost is = $',m.system_cost())\n",
    "print('Generation in MW')\n",
    "for g in G:\n",
    "        print(\"generator {0:2d} = {1:.0f} \".format(g+1, m.p[g]()))\n",
    "print('Flow on transmission lines in MW')\n",
    "for l in L:\n",
    "        print(\"line {0:2d} = {1:.0f} \".format(l+1, m.flow[l]()))\n",
    "print('LMPs in $/MWh')\n",
    "for n in N:\n",
    "        print(\"Node {0:2d} = {1:.2f}\".format(n+1,m.dual[m.NodePowerBalanceConstraint[n]]))"
   ]
  },
  {
   "cell_type": "code",
   "execution_count": 48,
   "id": "2004b2a9",
   "metadata": {},
   "outputs": [
    {
     "data": {
      "image/png": "[encoded data removed]",
      "text/plain": [
       "<Figure size 800x550 with 4 Axes>"
      ]
     },
     "metadata": {},
     "output_type": "display_data"
    }
   ],
   "source": [
    "#Graph solution\n",
    "fig, ax = plt.subplots(max(G)+1, 1, figsize=(8, 1.5*max(G)+1))\n",
    "for g in G:\n",
    "    ax[g].bar(1, [m.p[g]()])\n",
    "    ax[g].set_xlim(0.99,1)\n",
    "    ax[g].set_ylim(0, 1.1*PMax[g])\n",
    "    ax[g].plot(ax[g].get_xlim(), np.array([PMax[g], PMax[g]]), 'r--')\n",
    "    ax[g].plot(ax[g].get_xlim(), np.array([PMin[g], PMin[g]]), 'r--')\n",
    "    ax[g].set_title('Unit ' + str(g+1))\n",
    "fig.tight_layout()"
   ]
  }
 ],
 "metadata": {
  "kernelspec": {
   "display_name": "Python 3 (ipykernel)",
   "language": "python",
   "name": "python3"
  },
  "language_info": {
   "codemirror_mode": {
    "name": "ipython",
    "version": 3
   },
   "file_extension": ".py",
   "mimetype": "text/x-python",
   "name": "python",
   "nbconvert_exporter": "python",
   "pygments_lexer": "ipython3",
   "version": "3.9.13"
  }
 },
 "nbformat": 4,
 "nbformat_minor": 5
}
