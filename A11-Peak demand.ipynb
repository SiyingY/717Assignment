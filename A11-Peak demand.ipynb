{
 "cells": [
  {
   "cell_type": "code",
   "execution_count": 2,
   "id": "143c4aea",
   "metadata": {},
   "outputs": [],
   "source": [
    "import os\n",
    "import pandas as pd\n",
    "import numpy as np\n",
    "import matplotlib.pyplot as plt\n",
    "from pyomo.environ import *\n",
    "opt = SolverFactory('glpk').executable = 'D:\\download\\glpk-4.65\\w64'"
   ]
  },
  {
   "cell_type": "code",
   "execution_count": 3,
   "id": "5a4daa87",
   "metadata": {},
   "outputs": [],
   "source": [
    "#Read generators and demand data as two dataframes  Desktop717data\n",
    "df_genData=pd.read_excel(\"Desktop/717/data/A11.xlsx\",sheet_name=\"GeneratorsData\",skiprows=1) #read data from generators tab and skip the first row\n",
    "df_AverloadsData=pd.read_excel(\"Desktop/717/data/A11.xlsx\",sheet_name=\"AverageloadData\",skiprows=1)\n",
    "df_PeakloadsData=pd.read_excel(\"Desktop/717/data/A11.xlsx\",sheet_name=\"PeakLoadData\",skiprows=1) \n",
    "df_linesData=pd.read_excel(\"Desktop/717/data/A11.xlsx\",sheet_name=\"LinesData\",skiprows=1) "
   ]
  },
  {
   "cell_type": "code",
   "execution_count": 4,
   "id": "04b2774c",
   "metadata": {},
   "outputs": [
    {
     "name": "stdout",
     "output_type": "stream",
     "text": [
      "We read data for 28 power generating units\n",
      "We read data for 3 nodes\n",
      "We read data for 3 transmission lines\n"
     ]
    }
   ],
   "source": [
    "#define the size of the sets\n",
    "NumGens=len(df_genData)\n",
    "NumNodes=len(df_AverloadsData)\n",
    "NumLines=len(df_linesData)\n",
    "#T=len(df_demandData)\n",
    "print(\"We read data for\", NumGens, \"power generating units\")\n",
    "print(\"We read data for\", NumNodes, \"nodes\")\n",
    "print(\"We read data for\", NumLines, \"transmission lines\")"
   ]
  },
  {
   "cell_type": "code",
   "execution_count": 5,
   "id": "10861de4",
   "metadata": {},
   "outputs": [],
   "source": [
    "#Define Indexes\n",
    "G=np.array([g for g in range(0,NumGens)])  \n",
    "N=np.array([n for n in range(0,NumNodes)])\n",
    "L=np.array([l for l in range(0,NumLines)])"
   ]
  },
  {
   "cell_type": "code",
   "execution_count": 6,
   "id": "7ac29dbc",
   "metadata": {
    "scrolled": true
   },
   "outputs": [
    {
     "data": {
      "text/plain": [
       "Index(['GenName', 'Node', 'FixedCost', 'SDCost', 'SUCost', 'VarCost', 'MaxGen',\n",
       "       'SpringMaxGen', 'MinGen', 'RampDown', 'RampSD', 'RampSU', 'RampUp',\n",
       "       'MinUpTime', 'MinDownTime', 'ReqUp', 'ReqDown', 'InitialStatus',\n",
       "       'InitialGen', 'Plant Name', 'Fuel Type', 'Average Emission Rate'],\n",
       "      dtype='object')"
      ]
     },
     "execution_count": 6,
     "metadata": {},
     "output_type": "execute_result"
    }
   ],
   "source": [
    "df_genData.columns"
   ]
  },
  {
   "cell_type": "code",
   "execution_count": 7,
   "id": "00a1b78e",
   "metadata": {},
   "outputs": [],
   "source": [
    "##Declare the generator's parameters and assign them the data we read before\n",
    "VarCost=df_genData.loc[:,'VarCost'].to_numpy()\n",
    "PMax=df_genData.loc[:,'MaxGen'].to_numpy()\n",
    "SpringPMax=df_genData.loc[:,'SpringMaxGen'].to_numpy()\n",
    "PMin=df_genData.loc[:,'MinGen'].to_numpy()\n",
    "GenNode=df_genData.loc[:,'Node'].to_numpy()"
   ]
  },
  {
   "cell_type": "code",
   "execution_count": 8,
   "id": "8c423ebc",
   "metadata": {},
   "outputs": [
    {
     "data": {
      "text/plain": [
       "Index(['LineName', 'NodeFrom', 'NodeTo', 'Reactance', 'Capacity'], dtype='object')"
      ]
     },
     "execution_count": 8,
     "metadata": {},
     "output_type": "execute_result"
    }
   ],
   "source": [
    "df_linesData.columns  #In the data we defined 3 lines as: L1-2, L2-3, and L3-1.\n",
    "#We could have defined them in other way, but this is convenient for the KVL equation"
   ]
  },
  {
   "cell_type": "code",
   "execution_count": 9,
   "id": "84300347",
   "metadata": {},
   "outputs": [],
   "source": [
    "##Declare the transmission lines' parameters and assign them the data we read before\n",
    "NodeFrom=df_linesData.loc[:,'NodeFrom'].to_numpy()\n",
    "NodeTo=df_linesData.loc[:,'NodeTo'].to_numpy()\n",
    "LineReactance=df_linesData.loc[:,'Reactance'].to_numpy()\n",
    "LineCapacity=df_linesData.loc[:,'Capacity'].to_numpy()"
   ]
  },
  {
   "cell_type": "code",
   "execution_count": 11,
   "id": "642ab76c",
   "metadata": {
    "scrolled": true
   },
   "outputs": [
    {
     "data": {
      "text/plain": [
       "Index(['LoadName', 'Node', 'PWinterPeak', 'PWinterOffPeak', 'PSpringPeak',\n",
       "       'PSpringOffPeak', 'PSummerPeak', 'PSummerOffPeak', 'PFallPeak',\n",
       "       'PFallOffPeak'],\n",
       "      dtype='object')"
      ]
     },
     "execution_count": 11,
     "metadata": {},
     "output_type": "execute_result"
    }
   ],
   "source": [
    "df_PeakloadsData.columns"
   ]
  },
  {
   "cell_type": "code",
   "execution_count": 12,
   "id": "6aaf9313",
   "metadata": {},
   "outputs": [],
   "source": [
    "PLoadBus=df_PeakloadsData.loc[:,'Node'].to_numpy( )\n",
    "PPeakWinterDemand=df_PeakloadsData.loc[:,'PWinterPeak'].to_numpy( )\n",
    "POffPeakWinterDemand=df_PeakloadsData.loc[:,'PWinterOffPeak'].to_numpy( )\n",
    "PPeakSummerDemand=df_PeakloadsData.loc[:,'PSummerPeak'].to_numpy( )\n",
    "POffPeakSummerDemand=df_PeakloadsData.loc[:,'PSummerOffPeak'].to_numpy( )\n",
    "PPeakFallDemand=df_PeakloadsData.loc[:,'PFallPeak'].to_numpy( )\n",
    "POffPeakFallDemand=df_PeakloadsData.loc[:,'PFallOffPeak'].to_numpy( )\n",
    "PPeakSpringDemand=df_PeakloadsData.loc[:,'PSpringPeak'].to_numpy( )\n",
    "POffPeakSpringDemand=df_PeakloadsData.loc[:,'PSpringOffPeak'].to_numpy( )"
   ]
  },
  {
   "cell_type": "code",
   "execution_count": 13,
   "id": "483159ba",
   "metadata": {},
   "outputs": [
    {
     "data": {
      "text/plain": [
       "array([ 5432.6 , 12223.35,  9507.05])"
      ]
     },
     "execution_count": 13,
     "metadata": {},
     "output_type": "execute_result"
    }
   ],
   "source": [
    "POffPeakWinterDemand"
   ]
  },
  {
   "cell_type": "code",
   "execution_count": 14,
   "id": "35453f51",
   "metadata": {},
   "outputs": [],
   "source": [
    "# define a function indicatorMatrix that creates indicator matrices to relate generators with their node\n",
    "# and relate lines with the nodes\n",
    "#dataRows is a column vector of NumRows rows. Each element says the column where this row should be a one in the final matrix\n",
    "def IndicatorMatrix(NumRows, NumCols, dataRows):\n",
    "    matrix= np.zeros((NumRows, NumCols),dtype=int)\n",
    "    for i in range(0,NumRows):\n",
    "        matrix[i,dataRows[i]-1]=1\n",
    "    return matrix"
   ]
  },
  {
   "cell_type": "code",
   "execution_count": 15,
   "id": "13aea2a6",
   "metadata": {},
   "outputs": [],
   "source": [
    "#Create indicator matrices using the function defined above\n",
    "#GeneratorInBus is a matrix of G rows and N columns that has 1 in the position g,n if generator g is AT node N, 0 otherwise\n",
    "GeneratorInBus=IndicatorMatrix(NumGens,NumNodes,GenNode)\n",
    "#LineFromBus is an indicator matrix of L rows and N columns that has 1 in the position l,n if line l departs FROM node N, 0 otherwise\n",
    "LineFromBus=IndicatorMatrix(NumLines,NumNodes,NodeFrom)\n",
    "#LineToBus is an indicator matrix of L rows and N columns that has 1 in the position l,n if line l arrives TO node N, 0 otherwise\n",
    "LineToBus=IndicatorMatrix(NumLines,NumNodes,NodeTo)"
   ]
  },
  {
   "cell_type": "code",
   "execution_count": 16,
   "id": "45231782",
   "metadata": {},
   "outputs": [
    {
     "data": {
      "text/plain": [
       "array([[1, 0, 0],\n",
       "       [1, 0, 0],\n",
       "       [0, 1, 0],\n",
       "       [0, 1, 0],\n",
       "       [0, 0, 1],\n",
       "       [0, 0, 1],\n",
       "       [0, 0, 1],\n",
       "       [1, 0, 0],\n",
       "       [1, 0, 0],\n",
       "       [1, 0, 0],\n",
       "       [1, 0, 0],\n",
       "       [1, 0, 0],\n",
       "       [0, 1, 0],\n",
       "       [0, 1, 0],\n",
       "       [0, 1, 0],\n",
       "       [0, 1, 0],\n",
       "       [0, 0, 1],\n",
       "       [1, 0, 0],\n",
       "       [0, 0, 1],\n",
       "       [0, 0, 1],\n",
       "       [1, 0, 0],\n",
       "       [0, 1, 0],\n",
       "       [0, 1, 0],\n",
       "       [0, 0, 1],\n",
       "       [0, 0, 1],\n",
       "       [0, 0, 1],\n",
       "       [1, 0, 0],\n",
       "       [0, 1, 0]])"
      ]
     },
     "execution_count": 16,
     "metadata": {},
     "output_type": "execute_result"
    }
   ],
   "source": [
    "GeneratorInBus"
   ]
  },
  {
   "cell_type": "code",
   "execution_count": 17,
   "id": "cc6ef6fd",
   "metadata": {},
   "outputs": [],
   "source": [
    "#UC MODEL of winter peak hour\n",
    "def PeakWinterED():\n",
    "    m=ConcreteModel()\n",
    "    #m.dual = Suffix(direction=Suffix.IMPORT_EXPORT)\n",
    "    m.dual = Suffix(direction=Suffix.IMPORT)#Create a 'dual' suffix component on the instance so the solver plugin will know which suffixes to collect\n",
    "    m.N=Set(initialize=N)\n",
    "    m.L=Set(initialize=L)\n",
    "    m.G=Set(initialize=G)\n",
    "    m.p=Var(m.G, bounds = (0,3500))#This is power generation. Could also declare as m.p=Var(m.G,within=PositiveReals)\n",
    "    m.flow=Var(m.L, bounds = (-1000,1000))#This is power flow on a line\n",
    "    m.system_cost=Objective(expr=sum(m.p[g]*VarCost[g] for g in m.G), sense=minimize)#Objective is to minimize costs\n",
    "    m.MaxGeneration=Constraint(m.G, rule=lambda m, g:  m.p[g] <= PMax[g])\n",
    "    m.NodePowerBalanceConstraint=Constraint(m.N, rule=lambda m, n: sum(LineToBus[l,n]*m.flow[l] for l in L)\n",
    "                                            -sum(LineFromBus[l,n]*m.flow[l] for l in L)+sum(GeneratorInBus[g,n]*m.p[g] for g in G)\n",
    "                                            == PPeakWinterDemand[n])\n",
    "    m.KVLAroundLoopConstraint=Constraint(rule=lambda m: sum(LineReactance[l]*m.flow[l] for l in L)==0)#Note that in the data we defined the lines L1-2, L2-3, and L3,1 . That way the coefficient of each one in the KVL loop is positive 1.\n",
    "    m.MaxFlow=Constraint(m.L, rule=lambda m, l:  m.flow[l] <= LineCapacity[l])\n",
    "    m.MaxCounterFlow=Constraint(m.L, rule=lambda m, l:  m.flow[l] >= -LineCapacity[l])\n",
    "    return m\n",
    "\n"
   ]
  },
  {
   "cell_type": "code",
   "execution_count": 18,
   "id": "07fd32ad",
   "metadata": {},
   "outputs": [
    {
     "data": {
      "text/plain": [
       "array([ 5930.4, 13343.4, 10378.2])"
      ]
     },
     "execution_count": 18,
     "metadata": {},
     "output_type": "execute_result"
    }
   ],
   "source": [
    "PPeakWinterDemand"
   ]
  },
  {
   "cell_type": "code",
   "execution_count": 19,
   "id": "b1e14cb0",
   "metadata": {
    "scrolled": false
   },
   "outputs": [
    {
     "name": "stdout",
     "output_type": "stream",
     "text": [
      "# ==========================================================\n",
      "# = Solver Results                                         =\n",
      "# ==========================================================\n",
      "# ----------------------------------------------------------\n",
      "#   Problem Information\n",
      "# ----------------------------------------------------------\n",
      "Problem: \n",
      "- Name: unknown\n",
      "  Lower bound: 723801.512\n",
      "  Upper bound: 723801.512\n",
      "  Number of objectives: 1\n",
      "  Number of constraints: 39\n",
      "  Number of variables: 32\n",
      "  Number of nonzeros: 72\n",
      "  Sense: minimize\n",
      "# ----------------------------------------------------------\n",
      "#   Solver Information\n",
      "# ----------------------------------------------------------\n",
      "Solver: \n",
      "- Status: ok\n",
      "  Termination condition: optimal\n",
      "  Statistics: \n",
      "    Branch and bound: \n",
      "      Number of bounded subproblems: 0\n",
      "      Number of created subproblems: 0\n",
      "  Error rc: 0\n",
      "  Time: 0.04719424247741699\n",
      "# ----------------------------------------------------------\n",
      "#   Solution Information\n",
      "# ----------------------------------------------------------\n",
      "Solution: \n",
      "- number of solutions: 0\n",
      "  number of solutions displayed: 0\n"
     ]
    }
   ],
   "source": [
    "m=PeakWinterED()\n",
    "SolverFactory('glpk',executable='D:\\download\\glpk-4.65\\w64\\glpsol.exe').solve(m).write()"
   ]
  },
  {
   "cell_type": "code",
   "execution_count": 20,
   "id": "f76cd66a",
   "metadata": {
    "scrolled": false
   },
   "outputs": [
    {
     "name": "stdout",
     "output_type": "stream",
     "text": [
      "SOLUTION-winter peak\n",
      "The total system cost is = $ 723801.512\n",
      "Generation in MW\n",
      "generator  1 = 0.00 \n",
      "generator  2 = 0.00 \n",
      "generator  3 = 2491.20 \n",
      "generator  4 = 1530.50 \n",
      "generator  5 = 1718.05 \n",
      "generator  6 = 0.00 \n",
      "generator  7 = 2558.20 \n",
      "generator  8 = 423.50 \n",
      "generator  9 = 697.90 \n",
      "generator 10 = 697.90 \n",
      "generator 11 = 0.00 \n",
      "generator 12 = 920.00 \n",
      "generator 13 = 0.00 \n",
      "generator 14 = 799.20 \n",
      "generator 15 = 977.50 \n",
      "generator 16 = 2244.80 \n",
      "generator 17 = 730.00 \n",
      "generator 18 = 271.20 \n",
      "generator 19 = 979.70 \n",
      "generator 20 = 670.00 \n",
      "generator 21 = 2337.70 \n",
      "generator 22 = 2425.00 \n",
      "generator 23 = 2716.00 \n",
      "generator 24 = 2795.73 \n",
      "generator 25 = 745.54 \n",
      "generator 26 = 922.37 \n",
      "generator 27 = 0.00 \n",
      "generator 28 = 0.00 \n",
      "Flow on transmission lines in MW\n",
      "line  1 = -141.00 \n",
      "line  2 = -300.20 \n",
      "line  3 = 441.20 \n",
      "LMPs in $/MWh\n",
      "Node  1 = 39.00\n",
      "Node  2 = 39.00\n",
      "Node  3 = 39.00\n"
     ]
    }
   ],
   "source": [
    "print('SOLUTION-winter peak')\n",
    "print('The total system cost is = $',m.system_cost())\n",
    "print('Generation in MW')\n",
    "for g in G:\n",
    "        print(\"generator {0:2d} = {1:.2f} \".format(g+1, m.p[g]()))\n",
    "print('Flow on transmission lines in MW')\n",
    "for l in L:\n",
    "        print(\"line {0:2d} = {1:.2f} \".format(l+1, m.flow[l]()))\n",
    "print('LMPs in $/MWh')\n",
    "for n in N:\n",
    "        print(\"Node {0:2d} = {1:.2f}\".format(n+1,m.dual[m.NodePowerBalanceConstraint[n]]))"
   ]
  },
  {
   "cell_type": "code",
   "execution_count": 21,
   "id": "bd6718b1",
   "metadata": {},
   "outputs": [],
   "source": [
    "#UC MODEL of winter offpeak hour\n",
    "def OffPeakWinterED():\n",
    "    m=ConcreteModel()\n",
    "    #m.dual = Suffix(direction=Suffix.IMPORT_EXPORT)\n",
    "    m.dual = Suffix(direction=Suffix.IMPORT)#Create a 'dual' suffix component on the instance so the solver plugin will know which suffixes to collect\n",
    "    m.N=Set(initialize=N)\n",
    "    m.L=Set(initialize=L)\n",
    "    m.G=Set(initialize=G)\n",
    "    m.p=Var(m.G, bounds = (0,3500))#This is power generation. Could also declare as m.p=Var(m.G,within=PositiveReals)\n",
    "    m.flow=Var(m.L, bounds = (-1000,1000))#This is power flow on a line\n",
    "    m.system_cost=Objective(expr=sum(m.p[g]*VarCost[g] for g in m.G), sense=minimize)#Objective is to minimize costs\n",
    "    m.MaxGeneration=Constraint(m.G, rule=lambda m, g:  m.p[g] <= PMax[g])\n",
    "    m.NodePowerBalanceConstraint=Constraint(m.N, rule=lambda m, n: sum(LineToBus[l,n]*m.flow[l] for l in L)-sum(LineFromBus[l,n]*m.flow[l] for l in L)+sum(GeneratorInBus[g,n]*m.p[g] for g in G) == POffPeakWinterDemand[n])\n",
    "    m.KVLAroundLoopConstraint=Constraint(rule=lambda m: sum(LineReactance[l]*m.flow[l] for l in L)==0)#Note that in the data we defined the lines L1-2, L2-3, and L3,1 . That way the coefficient of each one in the KVL loop is positive 1.\n",
    "    m.MaxFlow=Constraint(m.L, rule=lambda m, l:  m.flow[l] <= LineCapacity[l])\n",
    "    m.MaxCounterFlow=Constraint(m.L, rule=lambda m, l:  m.flow[l] >= -LineCapacity[l])\n",
    "    return m\n"
   ]
  },
  {
   "cell_type": "code",
   "execution_count": 22,
   "id": "2d648c72",
   "metadata": {},
   "outputs": [
    {
     "name": "stdout",
     "output_type": "stream",
     "text": [
      "# ==========================================================\n",
      "# = Solver Results                                         =\n",
      "# ==========================================================\n",
      "# ----------------------------------------------------------\n",
      "#   Problem Information\n",
      "# ----------------------------------------------------------\n",
      "Problem: \n",
      "- Name: unknown\n",
      "  Lower bound: 627501.461\n",
      "  Upper bound: 627501.461\n",
      "  Number of objectives: 1\n",
      "  Number of constraints: 39\n",
      "  Number of variables: 32\n",
      "  Number of nonzeros: 72\n",
      "  Sense: minimize\n",
      "# ----------------------------------------------------------\n",
      "#   Solver Information\n",
      "# ----------------------------------------------------------\n",
      "Solver: \n",
      "- Status: ok\n",
      "  Termination condition: optimal\n",
      "  Statistics: \n",
      "    Branch and bound: \n",
      "      Number of bounded subproblems: 0\n",
      "      Number of created subproblems: 0\n",
      "  Error rc: 0\n",
      "  Time: 0.041056156158447266\n",
      "# ----------------------------------------------------------\n",
      "#   Solution Information\n",
      "# ----------------------------------------------------------\n",
      "Solution: \n",
      "- number of solutions: 0\n",
      "  number of solutions displayed: 0\n"
     ]
    }
   ],
   "source": [
    "m= OffPeakWinterED()\n",
    "SolverFactory('glpk',executable='D:\\download\\glpk-4.65\\w64\\glpsol.exe').solve(m).write()\n"
   ]
  },
  {
   "cell_type": "code",
   "execution_count": 23,
   "id": "036eada8",
   "metadata": {
    "scrolled": false
   },
   "outputs": [
    {
     "name": "stdout",
     "output_type": "stream",
     "text": [
      "SOLUTION-winter offpeak\n",
      "The total system cost is = $ 627501.461\n",
      "Generation in MW\n",
      "generator  1 = 0.00 \n",
      "generator  2 = 0.00 \n",
      "generator  3 = 2491.20 \n",
      "generator  4 = 1530.50 \n",
      "generator  5 = 0.00 \n",
      "generator  6 = 0.00 \n",
      "generator  7 = 1787.25 \n",
      "generator  8 = 423.50 \n",
      "generator  9 = 697.90 \n",
      "generator 10 = 697.90 \n",
      "generator 11 = 0.00 \n",
      "generator 12 = 920.00 \n",
      "generator 13 = 0.00 \n",
      "generator 14 = 799.20 \n",
      "generator 15 = 977.50 \n",
      "generator 16 = 2244.80 \n",
      "generator 17 = 730.00 \n",
      "generator 18 = 271.20 \n",
      "generator 19 = 979.70 \n",
      "generator 20 = 670.00 \n",
      "generator 21 = 2337.70 \n",
      "generator 22 = 2425.00 \n",
      "generator 23 = 2716.00 \n",
      "generator 24 = 2795.73 \n",
      "generator 25 = 745.54 \n",
      "generator 26 = 922.37 \n",
      "generator 27 = 0.00 \n",
      "generator 28 = 0.00 \n",
      "Flow on transmission lines in MW\n",
      "line  1 = -348.42 \n",
      "line  2 = 612.43 \n",
      "line  3 = -264.02 \n",
      "LMPs in $/MWh\n",
      "Node  1 = 38.00\n",
      "Node  2 = 38.00\n",
      "Node  3 = 38.00\n"
     ]
    }
   ],
   "source": [
    "print('SOLUTION-winter offpeak')\n",
    "print('The total system cost is = $',m.system_cost())\n",
    "print('Generation in MW')\n",
    "for g in G:\n",
    "        print(\"generator {0:2d} = {1:.2f} \".format(g+1, m.p[g]()))\n",
    "print('Flow on transmission lines in MW')\n",
    "for l in L:\n",
    "        print(\"line {0:2d} = {1:.2f} \".format(l+1, m.flow[l]()))\n",
    "print('LMPs in $/MWh')\n",
    "for n in N:\n",
    "        print(\"Node {0:2d} = {1:.2f}\".format(n+1,m.dual[m.NodePowerBalanceConstraint[n]]))"
   ]
  },
  {
   "cell_type": "markdown",
   "id": "b9333d70",
   "metadata": {},
   "source": [
    "#AOffPeakWinterDemand=df_AverloadsData.loc[:,'AWinterOffPeak'].to_numpy( )\n",
    "APeakSummerDemand=df_AverloadsData.loc[:,'ASummerPeak'].to_numpy( )\n",
    "AOffPeakSummerDemand=df_AverloadsData.loc[:,'ASummerOffPeak'].to_numpy( )\n",
    "APeakFallDemand=df_AverloadsData.loc[:,'AFallPeak'].to_numpy( )\n",
    "AOffPeakFallDemand=df_AverloadsData.loc[:,'AFallOffPeak'].to_numpy( )\n",
    "APeakSpringDemand=df_AverloadsData.loc[:,'ASpringPeak'].to_numpy( )\n",
    "AOffPeakSpringDemand=df_AverloadsData.loc[:,'ASpringOffPeak'].to_numpy( )"
   ]
  },
  {
   "cell_type": "code",
   "execution_count": 24,
   "id": "ce6754ad",
   "metadata": {},
   "outputs": [],
   "source": [
    "#UC MODEL of summer peak hour\n",
    "def PeakSummerED():\n",
    "    m=ConcreteModel()\n",
    "    #m.dual = Suffix(direction=Suffix.IMPORT_EXPORT)\n",
    "    m.dual = Suffix(direction=Suffix.IMPORT)#Create a 'dual' suffix component on the instance so the solver plugin will know which suffixes to collect\n",
    "    m.N=Set(initialize=N)\n",
    "    m.L=Set(initialize=L)\n",
    "    m.G=Set(initialize=G)\n",
    "    m.p=Var(m.G, bounds = (0,3500))#This is power generation. Could also declare as m.p=Var(m.G,within=PositiveReals)\n",
    "    m.flow=Var(m.L, bounds = (-1000,1000))#This is power flow on a line\n",
    "    m.system_cost=Objective(expr=sum(m.p[g]*VarCost[g] for g in m.G), sense=minimize)#Objective is to minimize costs\n",
    "    m.MaxGeneration=Constraint(m.G, rule=lambda m, g:  m.p[g] <= PMax[g])\n",
    "    m.NodePowerBalanceConstraint=Constraint(m.N, rule=lambda m, n: sum(LineToBus[l,n]*m.flow[l] for l in L)-sum(LineFromBus[l,n]*m.flow[l] for l in L)+sum(GeneratorInBus[g,n]*m.p[g] for g in G) == PPeakSummerDemand[n])\n",
    "    m.KVLAroundLoopConstraint=Constraint(rule=lambda m: sum(LineReactance[l]*m.flow[l] for l in L)==0)#Note that in the data we defined the lines L1-2, L2-3, and L3,1 . That way the coefficient of each one in the KVL loop is positive 1.\n",
    "    m.MaxFlow=Constraint(m.L, rule=lambda m, l:  m.flow[l] <= LineCapacity[l])\n",
    "    m.MaxCounterFlow=Constraint(m.L, rule=lambda m, l:  m.flow[l] >= -LineCapacity[l])\n",
    "    return m"
   ]
  },
  {
   "cell_type": "code",
   "execution_count": 25,
   "id": "8d0ba98f",
   "metadata": {},
   "outputs": [
    {
     "name": "stdout",
     "output_type": "stream",
     "text": [
      "# ==========================================================\n",
      "# = Solver Results                                         =\n",
      "# ==========================================================\n",
      "# ----------------------------------------------------------\n",
      "#   Problem Information\n",
      "# ----------------------------------------------------------\n",
      "Problem: \n",
      "- Name: unknown\n",
      "  Lower bound: 894525.669\n",
      "  Upper bound: 894525.669\n",
      "  Number of objectives: 1\n",
      "  Number of constraints: 39\n",
      "  Number of variables: 32\n",
      "  Number of nonzeros: 72\n",
      "  Sense: minimize\n",
      "# ----------------------------------------------------------\n",
      "#   Solver Information\n",
      "# ----------------------------------------------------------\n",
      "Solver: \n",
      "- Status: ok\n",
      "  Termination condition: optimal\n",
      "  Statistics: \n",
      "    Branch and bound: \n",
      "      Number of bounded subproblems: 0\n",
      "      Number of created subproblems: 0\n",
      "  Error rc: 0\n",
      "  Time: 0.05627799034118652\n",
      "# ----------------------------------------------------------\n",
      "#   Solution Information\n",
      "# ----------------------------------------------------------\n",
      "Solution: \n",
      "- number of solutions: 0\n",
      "  number of solutions displayed: 0\n"
     ]
    }
   ],
   "source": [
    "m= PeakSummerED()\n",
    "SolverFactory('glpk',executable='D:\\download\\glpk-4.65\\w64\\glpsol.exe').solve(m).write()"
   ]
  },
  {
   "cell_type": "code",
   "execution_count": 26,
   "id": "f023695e",
   "metadata": {},
   "outputs": [
    {
     "name": "stdout",
     "output_type": "stream",
     "text": [
      "SOLUTION- summer peak\n",
      "The total system cost is = $ 894525.6689999999\n",
      "Generation in MW\n",
      "generator  1 = 1148.40 \n",
      "generator  2 = 0.00 \n",
      "generator  3 = 2491.20 \n",
      "generator  4 = 1530.50 \n",
      "generator  5 = 2119.00 \n",
      "generator  6 = 763.20 \n",
      "generator  7 = 2558.20 \n",
      "generator  8 = 423.50 \n",
      "generator  9 = 697.90 \n",
      "generator 10 = 697.90 \n",
      "generator 11 = 583.20 \n",
      "generator 12 = 920.00 \n",
      "generator 13 = 1019.25 \n",
      "generator 14 = 799.20 \n",
      "generator 15 = 977.50 \n",
      "generator 16 = 2244.80 \n",
      "generator 17 = 730.00 \n",
      "generator 18 = 271.20 \n",
      "generator 19 = 979.70 \n",
      "generator 20 = 670.00 \n",
      "generator 21 = 2337.70 \n",
      "generator 22 = 2425.00 \n",
      "generator 23 = 2716.00 \n",
      "generator 24 = 2795.73 \n",
      "generator 25 = 745.54 \n",
      "generator 26 = 922.37 \n",
      "generator 27 = 0.00 \n",
      "generator 28 = 0.00 \n",
      "Flow on transmission lines in MW\n",
      "line  1 = 422.70 \n",
      "line  2 = -479.00 \n",
      "line  3 = 56.30 \n",
      "LMPs in $/MWh\n",
      "Node  1 = 46.00\n",
      "Node  2 = 46.00\n",
      "Node  3 = 46.00\n"
     ]
    }
   ],
   "source": [
    "print('SOLUTION- summer peak')\n",
    "print('The total system cost is = $',m.system_cost())\n",
    "print('Generation in MW')\n",
    "for g in G:\n",
    "        print(\"generator {0:2d} = {1:.2f} \".format(g+1, m.p[g]()))\n",
    "print('Flow on transmission lines in MW')\n",
    "for l in L:\n",
    "        print(\"line {0:2d} = {1:.2f} \".format(l+1, m.flow[l]()))\n",
    "print('LMPs in $/MWh')\n",
    "for n in N:\n",
    "        print(\"Node {0:2d} = {1:.2f}\".format(n+1,m.dual[m.NodePowerBalanceConstraint[n]]))"
   ]
  },
  {
   "cell_type": "code",
   "execution_count": null,
   "id": "e4efda4e",
   "metadata": {},
   "outputs": [],
   "source": []
  },
  {
   "cell_type": "code",
   "execution_count": null,
   "id": "6744c4e8",
   "metadata": {},
   "outputs": [],
   "source": []
  },
  {
   "cell_type": "code",
   "execution_count": 27,
   "id": "8616f3f9",
   "metadata": {},
   "outputs": [],
   "source": [
    "#UC MODEL of summer offpeak hour\n",
    "def OffPeakSummerED():\n",
    "    m=ConcreteModel()\n",
    "    #m.dual = Suffix(direction=Suffix.IMPORT_EXPORT)\n",
    "    m.dual = Suffix(direction=Suffix.IMPORT)#Create a 'dual' suffix component on the instance so the solver plugin will know which suffixes to collect\n",
    "    m.N=Set(initialize=N)\n",
    "    m.L=Set(initialize=L)\n",
    "    m.G=Set(initialize=G)\n",
    "    m.p=Var(m.G, bounds = (0,3500))#This is power generation. Could also declare as m.p=Var(m.G,within=PositiveReals)\n",
    "    m.flow=Var(m.L, bounds = (-1000,1000))#This is power flow on a line\n",
    "    m.system_cost=Objective(expr=sum(m.p[g]*VarCost[g] for g in m.G), sense=minimize)#Objective is to minimize costs\n",
    "    m.MaxGeneration=Constraint(m.G, rule=lambda m, g:  m.p[g] <= PMax[g])\n",
    "    m.NodePowerBalanceConstraint=Constraint(m.N, rule=lambda m, n: sum(LineToBus[l,n]*m.flow[l] for l in L)-sum(LineFromBus[l,n]*m.flow[l] for l in L)+sum(GeneratorInBus[g,n]*m.p[g] for g in G) == POffPeakSummerDemand[n])\n",
    "    m.KVLAroundLoopConstraint=Constraint(rule=lambda m: sum(LineReactance[l]*m.flow[l] for l in L)==0)#Note that in the data we defined the lines L1-2, L2-3, and L3,1 . That way the coefficient of each one in the KVL loop is positive 1.\n",
    "    m.MaxFlow=Constraint(m.L, rule=lambda m, l:  m.flow[l] <= LineCapacity[l])\n",
    "    m.MaxCounterFlow=Constraint(m.L, rule=lambda m, l:  m.flow[l] >= -LineCapacity[l])\n",
    "    return m"
   ]
  },
  {
   "cell_type": "code",
   "execution_count": 28,
   "id": "7b7bce00",
   "metadata": {
    "scrolled": true
   },
   "outputs": [
    {
     "name": "stdout",
     "output_type": "stream",
     "text": [
      "# ==========================================================\n",
      "# = Solver Results                                         =\n",
      "# ==========================================================\n",
      "# ----------------------------------------------------------\n",
      "#   Problem Information\n",
      "# ----------------------------------------------------------\n",
      "Problem: \n",
      "- Name: unknown\n",
      "  Lower bound: 787179.967\n",
      "  Upper bound: 787179.967\n",
      "  Number of objectives: 1\n",
      "  Number of constraints: 39\n",
      "  Number of variables: 32\n",
      "  Number of nonzeros: 72\n",
      "  Sense: minimize\n",
      "# ----------------------------------------------------------\n",
      "#   Solver Information\n",
      "# ----------------------------------------------------------\n",
      "Solver: \n",
      "- Status: ok\n",
      "  Termination condition: optimal\n",
      "  Statistics: \n",
      "    Branch and bound: \n",
      "      Number of bounded subproblems: 0\n",
      "      Number of created subproblems: 0\n",
      "  Error rc: 0\n",
      "  Time: 0.05594778060913086\n",
      "# ----------------------------------------------------------\n",
      "#   Solution Information\n",
      "# ----------------------------------------------------------\n",
      "Solution: \n",
      "- number of solutions: 0\n",
      "  number of solutions displayed: 0\n"
     ]
    }
   ],
   "source": [
    "m= OffPeakSummerED()\n",
    "SolverFactory('glpk',executable='D:\\download\\glpk-4.65\\w64\\glpsol.exe').solve(m).write()"
   ]
  },
  {
   "cell_type": "code",
   "execution_count": 29,
   "id": "8194e1e9",
   "metadata": {},
   "outputs": [
    {
     "name": "stdout",
     "output_type": "stream",
     "text": [
      "SOLUTION- summer offpeak\n",
      "The total system cost is = $ 787179.9669999998\n",
      "Generation in MW\n",
      "generator  1 = 554.85 \n",
      "generator  2 = 0.00 \n",
      "generator  3 = 2491.20 \n",
      "generator  4 = 1530.50 \n",
      "generator  5 = 2119.00 \n",
      "generator  6 = 0.00 \n",
      "generator  7 = 2558.20 \n",
      "generator  8 = 423.50 \n",
      "generator  9 = 697.90 \n",
      "generator 10 = 697.90 \n",
      "generator 11 = 583.20 \n",
      "generator 12 = 920.00 \n",
      "generator 13 = 0.00 \n",
      "generator 14 = 799.20 \n",
      "generator 15 = 977.50 \n",
      "generator 16 = 2244.80 \n",
      "generator 17 = 730.00 \n",
      "generator 18 = 271.20 \n",
      "generator 19 = 979.70 \n",
      "generator 20 = 670.00 \n",
      "generator 21 = 2337.70 \n",
      "generator 22 = 2425.00 \n",
      "generator 23 = 2716.00 \n",
      "generator 24 = 2795.73 \n",
      "generator 25 = 745.54 \n",
      "generator 26 = 922.37 \n",
      "generator 27 = 0.00 \n",
      "generator 28 = 0.00 \n",
      "Flow on transmission lines in MW\n",
      "line  1 = 366.60 \n",
      "line  2 = -485.15 \n",
      "line  3 = 118.55 \n",
      "LMPs in $/MWh\n",
      "Node  1 = 44.00\n",
      "Node  2 = 44.00\n",
      "Node  3 = 44.00\n"
     ]
    }
   ],
   "source": [
    "print('SOLUTION- summer offpeak')\n",
    "print('The total system cost is = $',m.system_cost())\n",
    "print('Generation in MW')\n",
    "for g in G:\n",
    "        print(\"generator {0:2d} = {1:.2f} \".format(g+1, m.p[g]()))\n",
    "print('Flow on transmission lines in MW')\n",
    "for l in L:\n",
    "        print(\"line {0:2d} = {1:.2f} \".format(l+1, m.flow[l]()))\n",
    "print('LMPs in $/MWh')\n",
    "for n in N:\n",
    "        print(\"Node {0:2d} = {1:.2f}\".format(n+1,m.dual[m.NodePowerBalanceConstraint[n]]))"
   ]
  },
  {
   "cell_type": "code",
   "execution_count": 30,
   "id": "e0619e33",
   "metadata": {},
   "outputs": [],
   "source": [
    "#UC MODEL of fall peak hour\n",
    "def PeakFallED():\n",
    "    m=ConcreteModel()\n",
    "    #m.dual = Suffix(direction=Suffix.IMPORT_EXPORT)\n",
    "    m.dual = Suffix(direction=Suffix.IMPORT)#Create a 'dual' suffix component on the instance so the solver plugin will know which suffixes to collect\n",
    "    m.N=Set(initialize=N)\n",
    "    m.L=Set(initialize=L)\n",
    "    m.G=Set(initialize=G)\n",
    "    m.p=Var(m.G, bounds = (0,3500))#This is power generation. Could also declare as m.p=Var(m.G,within=PositiveReals)\n",
    "    m.flow=Var(m.L, bounds = (-1000,1000))#This is power flow on a line\n",
    "    m.system_cost=Objective(expr=sum(m.p[g]*VarCost[g] for g in m.G), sense=minimize)#Objective is to minimize costs\n",
    "    m.MaxGeneration=Constraint(m.G, rule=lambda m, g:  m.p[g] <= PMax[g])\n",
    "    m.NodePowerBalanceConstraint=Constraint(m.N, rule=lambda m, n: sum(LineToBus[l,n]*m.flow[l] for l in L)-sum(LineFromBus[l,n]*m.flow[l] for l in L)+sum(GeneratorInBus[g,n]*m.p[g] for g in G) == PPeakFallDemand[n])\n",
    "    m.KVLAroundLoopConstraint=Constraint(rule=lambda m: sum(LineReactance[l]*m.flow[l] for l in L)==0)#Note that in the data we defined the lines L1-2, L2-3, and L3,1 . That way the coefficient of each one in the KVL loop is positive 1.\n",
    "    m.MaxFlow=Constraint(m.L, rule=lambda m, l:  m.flow[l] <= LineCapacity[l])\n",
    "    m.MaxCounterFlow=Constraint(m.L, rule=lambda m, l:  m.flow[l] >= -LineCapacity[l])\n",
    "    return m"
   ]
  },
  {
   "cell_type": "code",
   "execution_count": 31,
   "id": "b5d3d7db",
   "metadata": {},
   "outputs": [
    {
     "name": "stdout",
     "output_type": "stream",
     "text": [
      "# ==========================================================\n",
      "# = Solver Results                                         =\n",
      "# ==========================================================\n",
      "# ----------------------------------------------------------\n",
      "#   Problem Information\n",
      "# ----------------------------------------------------------\n",
      "Problem: \n",
      "- Name: unknown\n",
      "  Lower bound: 853493.669\n",
      "  Upper bound: 853493.669\n",
      "  Number of objectives: 1\n",
      "  Number of constraints: 39\n",
      "  Number of variables: 32\n",
      "  Number of nonzeros: 72\n",
      "  Sense: minimize\n",
      "# ----------------------------------------------------------\n",
      "#   Solver Information\n",
      "# ----------------------------------------------------------\n",
      "Solver: \n",
      "- Status: ok\n",
      "  Termination condition: optimal\n",
      "  Statistics: \n",
      "    Branch and bound: \n",
      "      Number of bounded subproblems: 0\n",
      "      Number of created subproblems: 0\n",
      "  Error rc: 0\n",
      "  Time: 0.0487210750579834\n",
      "# ----------------------------------------------------------\n",
      "#   Solution Information\n",
      "# ----------------------------------------------------------\n",
      "Solution: \n",
      "- number of solutions: 0\n",
      "  number of solutions displayed: 0\n"
     ]
    }
   ],
   "source": [
    "m= PeakFallED()\n",
    "SolverFactory('glpk',executable='D:\\download\\glpk-4.65\\w64\\glpsol.exe').solve(m).write()"
   ]
  },
  {
   "cell_type": "code",
   "execution_count": 32,
   "id": "d859040e",
   "metadata": {},
   "outputs": [
    {
     "name": "stdout",
     "output_type": "stream",
     "text": [
      "SOLUTION-fall peak hour\n",
      "The total system cost is = $ 853493.6689999999\n",
      "Generation in MW\n",
      "generator  1 = 1148.40 \n",
      "generator  2 = 0.00 \n",
      "generator  3 = 2491.20 \n",
      "generator  4 = 1530.50 \n",
      "generator  5 = 2119.00 \n",
      "generator  6 = 763.20 \n",
      "generator  7 = 2558.20 \n",
      "generator  8 = 423.50 \n",
      "generator  9 = 697.90 \n",
      "generator 10 = 697.90 \n",
      "generator 11 = 583.20 \n",
      "generator 12 = 920.00 \n",
      "generator 13 = 127.25 \n",
      "generator 14 = 799.20 \n",
      "generator 15 = 977.50 \n",
      "generator 16 = 2244.80 \n",
      "generator 17 = 730.00 \n",
      "generator 18 = 271.20 \n",
      "generator 19 = 979.70 \n",
      "generator 20 = 670.00 \n",
      "generator 21 = 2337.70 \n",
      "generator 22 = 2425.00 \n",
      "generator 23 = 2716.00 \n",
      "generator 24 = 2795.73 \n",
      "generator 25 = 745.54 \n",
      "generator 26 = 922.37 \n",
      "generator 27 = 0.00 \n",
      "generator 28 = 0.00 \n",
      "Flow on transmission lines in MW\n",
      "line  1 = 645.70 \n",
      "line  2 = -746.60 \n",
      "line  3 = 100.90 \n",
      "LMPs in $/MWh\n",
      "Node  1 = 46.00\n",
      "Node  2 = 46.00\n",
      "Node  3 = 46.00\n"
     ]
    }
   ],
   "source": [
    "print('SOLUTION-fall peak hour')\n",
    "print('The total system cost is = $',m.system_cost())\n",
    "print('Generation in MW')\n",
    "for g in G:\n",
    "        print(\"generator {0:2d} = {1:.2f} \".format(g+1, m.p[g]()))\n",
    "print('Flow on transmission lines in MW')\n",
    "for l in L:\n",
    "        print(\"line {0:2d} = {1:.2f} \".format(l+1, m.flow[l]()))\n",
    "print('LMPs in $/MWh')\n",
    "for n in N:\n",
    "        print(\"Node {0:2d} = {1:.2f}\".format(n+1,m.dual[m.NodePowerBalanceConstraint[n]]))"
   ]
  },
  {
   "cell_type": "code",
   "execution_count": 33,
   "id": "e22127a6",
   "metadata": {},
   "outputs": [],
   "source": [
    "#UC MODEL of fall offpeak hour\n",
    "def OffPeakFallED():\n",
    "    m=ConcreteModel()\n",
    "    #m.dual = Suffix(direction=Suffix.IMPORT_EXPORT)\n",
    "    m.dual = Suffix(direction=Suffix.IMPORT)#Create a 'dual' suffix component on the instance so the solver plugin will know which suffixes to collect\n",
    "    m.N=Set(initialize=N)\n",
    "    m.L=Set(initialize=L)\n",
    "    m.G=Set(initialize=G)\n",
    "    m.p=Var(m.G, bounds = (0,3500))#This is power generation. Could also declare as m.p=Var(m.G,within=PositiveReals)\n",
    "    m.flow=Var(m.L, bounds = (-1000,1000))#This is power flow on a line\n",
    "    m.system_cost=Objective(expr=sum(m.p[g]*VarCost[g] for g in m.G), sense=minimize)#Objective is to minimize costs\n",
    "    m.MaxGeneration=Constraint(m.G, rule=lambda m, g:  m.p[g] <= PMax[g])\n",
    "    m.NodePowerBalanceConstraint=Constraint(m.N, rule=lambda m, n: sum(LineToBus[l,n]*m.flow[l] for l in L)-sum(LineFromBus[l,n]*m.flow[l] for l in L)+sum(GeneratorInBus[g,n]*m.p[g] for g in G) == POffPeakFallDemand[n])\n",
    "    m.KVLAroundLoopConstraint=Constraint(rule=lambda m: sum(LineReactance[l]*m.flow[l] for l in L)==0)#Note that in the data we defined the lines L1-2, L2-3, and L3,1 . That way the coefficient of each one in the KVL loop is positive 1.\n",
    "    m.MaxFlow=Constraint(m.L, rule=lambda m, l:  m.flow[l] <= LineCapacity[l])\n",
    "    m.MaxCounterFlow=Constraint(m.L, rule=lambda m, l:  m.flow[l] >= -LineCapacity[l])\n",
    "    return m"
   ]
  },
  {
   "cell_type": "code",
   "execution_count": 34,
   "id": "49ae3375",
   "metadata": {},
   "outputs": [
    {
     "name": "stdout",
     "output_type": "stream",
     "text": [
      "# ==========================================================\n",
      "# = Solver Results                                         =\n",
      "# ==========================================================\n",
      "# ----------------------------------------------------------\n",
      "#   Problem Information\n",
      "# ----------------------------------------------------------\n",
      "Problem: \n",
      "- Name: unknown\n",
      "  Lower bound: 720096.512\n",
      "  Upper bound: 720096.512\n",
      "  Number of objectives: 1\n",
      "  Number of constraints: 39\n",
      "  Number of variables: 32\n",
      "  Number of nonzeros: 72\n",
      "  Sense: minimize\n",
      "# ----------------------------------------------------------\n",
      "#   Solver Information\n",
      "# ----------------------------------------------------------\n",
      "Solver: \n",
      "- Status: ok\n",
      "  Termination condition: optimal\n",
      "  Statistics: \n",
      "    Branch and bound: \n",
      "      Number of bounded subproblems: 0\n",
      "      Number of created subproblems: 0\n",
      "  Error rc: 0\n",
      "  Time: 0.056114912033081055\n",
      "# ----------------------------------------------------------\n",
      "#   Solution Information\n",
      "# ----------------------------------------------------------\n",
      "Solution: \n",
      "- number of solutions: 0\n",
      "  number of solutions displayed: 0\n"
     ]
    }
   ],
   "source": [
    "m= OffPeakFallED()\n",
    "SolverFactory('glpk',executable='D:\\download\\glpk-4.65\\w64\\glpsol.exe').solve(m).write()"
   ]
  },
  {
   "cell_type": "code",
   "execution_count": 35,
   "id": "1d1aae42",
   "metadata": {
    "scrolled": false
   },
   "outputs": [
    {
     "name": "stdout",
     "output_type": "stream",
     "text": [
      "SOLUTION- fall offpeak hour\n",
      "The total system cost is = $ 720096.512\n",
      "Generation in MW\n",
      "generator  1 = 0.00 \n",
      "generator  2 = 0.00 \n",
      "generator  3 = 2491.20 \n",
      "generator  4 = 1530.50 \n",
      "generator  5 = 1623.05 \n",
      "generator  6 = 0.00 \n",
      "generator  7 = 2558.20 \n",
      "generator  8 = 423.50 \n",
      "generator  9 = 697.90 \n",
      "generator 10 = 697.90 \n",
      "generator 11 = 0.00 \n",
      "generator 12 = 920.00 \n",
      "generator 13 = 0.00 \n",
      "generator 14 = 799.20 \n",
      "generator 15 = 977.50 \n",
      "generator 16 = 2244.80 \n",
      "generator 17 = 730.00 \n",
      "generator 18 = 271.20 \n",
      "generator 19 = 979.70 \n",
      "generator 20 = 670.00 \n",
      "generator 21 = 2337.70 \n",
      "generator 22 = 2425.00 \n",
      "generator 23 = 2716.00 \n",
      "generator 24 = 2795.73 \n",
      "generator 25 = 745.54 \n",
      "generator 26 = 922.37 \n",
      "generator 27 = 0.00 \n",
      "generator 28 = 0.00 \n",
      "Flow on transmission lines in MW\n",
      "line  1 = -148.92 \n",
      "line  2 = -265.37 \n",
      "line  3 = 414.28 \n",
      "LMPs in $/MWh\n",
      "Node  1 = 39.00\n",
      "Node  2 = 39.00\n",
      "Node  3 = 39.00\n"
     ]
    }
   ],
   "source": [
    "print('SOLUTION- fall offpeak hour')\n",
    "print('The total system cost is = $',m.system_cost())\n",
    "print('Generation in MW')\n",
    "for g in G:\n",
    "        print(\"generator {0:2d} = {1:.2f} \".format(g+1, m.p[g]()))\n",
    "print('Flow on transmission lines in MW')\n",
    "for l in L:\n",
    "        print(\"line {0:2d} = {1:.2f} \".format(l+1, m.flow[l]()))\n",
    "print('LMPs in $/MWh')\n",
    "for n in N:\n",
    "        print(\"Node {0:2d} = {1:.2f}\".format(n+1,m.dual[m.NodePowerBalanceConstraint[n]]))"
   ]
  },
  {
   "cell_type": "code",
   "execution_count": 36,
   "id": "729f6be6",
   "metadata": {},
   "outputs": [],
   "source": [
    "#UC MODEL of spring peak hour\n",
    "def PeakSpringED():\n",
    "    m=ConcreteModel()\n",
    "    #m.dual = Suffix(direction=Suffix.IMPORT_EXPORT)\n",
    "    m.dual = Suffix(direction=Suffix.IMPORT)#Create a 'dual' suffix component on the instance so the solver plugin will know which suffixes to collect\n",
    "    m.N=Set(initialize=N)\n",
    "    m.L=Set(initialize=L)\n",
    "    m.G=Set(initialize=G)\n",
    "    m.p=Var(m.G, bounds = (0,3500))#This is power generation. Could also declare as m.p=Var(m.G,within=PositiveReals)\n",
    "    m.flow=Var(m.L, bounds = (-1000,1000))#This is power flow on a line\n",
    "    m.system_cost=Objective(expr=sum(m.p[g]*VarCost[g] for g in m.G), sense=minimize)#Objective is to minimize costs\n",
    "    m.MaxGeneration=Constraint(m.G, rule=lambda m, g:  m.p[g] <= SpringPMax[g])\n",
    "    m.NodePowerBalanceConstraint=Constraint(m.N, rule=lambda m, n: sum(LineToBus[l,n]*m.flow[l] for l in L)-sum(LineFromBus[l,n]*m.flow[l] for l in L)+sum(GeneratorInBus[g,n]*m.p[g] for g in G) == PPeakSpringDemand[n])\n",
    "    m.KVLAroundLoopConstraint=Constraint(rule=lambda m: sum(LineReactance[l]*m.flow[l] for l in L)==0)#Note that in the data we defined the lines L1-2, L2-3, and L3,1 . That way the coefficient of each one in the KVL loop is positive 1.\n",
    "    m.MaxFlow=Constraint(m.L, rule=lambda m, l:  m.flow[l] <= LineCapacity[l])\n",
    "    m.MaxCounterFlow=Constraint(m.L, rule=lambda m, l:  m.flow[l] >= -LineCapacity[l])\n",
    "    return m\n"
   ]
  },
  {
   "cell_type": "code",
   "execution_count": 37,
   "id": "5233f68b",
   "metadata": {},
   "outputs": [
    {
     "name": "stdout",
     "output_type": "stream",
     "text": [
      "# ==========================================================\n",
      "# = Solver Results                                         =\n",
      "# ==========================================================\n",
      "# ----------------------------------------------------------\n",
      "#   Problem Information\n",
      "# ----------------------------------------------------------\n",
      "Problem: \n",
      "- Name: unknown\n",
      "  Lower bound: 1058911.45\n",
      "  Upper bound: 1058911.45\n",
      "  Number of objectives: 1\n",
      "  Number of constraints: 39\n",
      "  Number of variables: 32\n",
      "  Number of nonzeros: 72\n",
      "  Sense: minimize\n",
      "# ----------------------------------------------------------\n",
      "#   Solver Information\n",
      "# ----------------------------------------------------------\n",
      "Solver: \n",
      "- Status: ok\n",
      "  Termination condition: optimal\n",
      "  Statistics: \n",
      "    Branch and bound: \n",
      "      Number of bounded subproblems: 0\n",
      "      Number of created subproblems: 0\n",
      "  Error rc: 0\n",
      "  Time: 0.06384062767028809\n",
      "# ----------------------------------------------------------\n",
      "#   Solution Information\n",
      "# ----------------------------------------------------------\n",
      "Solution: \n",
      "- number of solutions: 0\n",
      "  number of solutions displayed: 0\n"
     ]
    }
   ],
   "source": [
    "m= PeakSpringED()\n",
    "SolverFactory('glpk',executable='D:\\download\\glpk-4.65\\w64\\glpsol.exe').solve(m).write()"
   ]
  },
  {
   "cell_type": "code",
   "execution_count": 38,
   "id": "4695de1b",
   "metadata": {
    "scrolled": false
   },
   "outputs": [
    {
     "name": "stdout",
     "output_type": "stream",
     "text": [
      "SOLUTION-spring peak hour\n",
      "The total system cost is = $ 1058911.4499999997\n",
      "Generation in MW\n",
      "generator  1 = 1148.40 \n",
      "generator  2 = 413.60 \n",
      "generator  3 = 2491.20 \n",
      "generator  4 = 1530.50 \n",
      "generator  5 = 2119.00 \n",
      "generator  6 = 763.20 \n",
      "generator  7 = 2558.20 \n",
      "generator  8 = 423.50 \n",
      "generator  9 = 697.90 \n",
      "generator 10 = 697.90 \n",
      "generator 11 = 583.20 \n",
      "generator 12 = 920.00 \n",
      "generator 13 = 1753.60 \n",
      "generator 14 = 799.20 \n",
      "generator 15 = 977.50 \n",
      "generator 16 = 2244.80 \n",
      "generator 17 = 730.00 \n",
      "generator 18 = 271.20 \n",
      "generator 19 = 979.70 \n",
      "generator 20 = 670.00 \n",
      "generator 21 = 1205.00 \n",
      "generator 22 = 1250.00 \n",
      "generator 23 = 1400.00 \n",
      "generator 24 = 1441.10 \n",
      "generator 25 = 384.30 \n",
      "generator 26 = 475.45 \n",
      "generator 27 = 1250.00 \n",
      "generator 28 = 796.55 \n",
      "Flow on transmission lines in MW\n",
      "line  1 = 703.70 \n",
      "line  2 = 8.30 \n",
      "line  3 = -712.00 \n",
      "LMPs in $/MWh\n",
      "Node  1 = 100.00\n",
      "Node  2 = 100.00\n",
      "Node  3 = 100.00\n"
     ]
    }
   ],
   "source": [
    "print('SOLUTION-spring peak hour')\n",
    "print('The total system cost is = $',m.system_cost())\n",
    "print('Generation in MW')\n",
    "for g in G:\n",
    "        print(\"generator {0:2d} = {1:.2f} \".format(g+1, m.p[g]()))\n",
    "print('Flow on transmission lines in MW')\n",
    "for l in L:\n",
    "        print(\"line {0:2d} = {1:.2f} \".format(l+1, m.flow[l]()))\n",
    "print('LMPs in $/MWh')\n",
    "for n in N:\n",
    "        print(\"Node {0:2d} = {1:.2f}\".format(n+1,m.dual[m.NodePowerBalanceConstraint[n]]))"
   ]
  },
  {
   "cell_type": "code",
   "execution_count": 39,
   "id": "df41cb24",
   "metadata": {},
   "outputs": [],
   "source": [
    "#UC MODEL of  spring peak hour\n",
    "def PeakOffSpringED():\n",
    "    m=ConcreteModel()\n",
    "    #m.dual = Suffix(direction=Suffix.IMPORT_EXPORT)\n",
    "    m.dual = Suffix(direction=Suffix.IMPORT)#Create a 'dual' suffix component on the instance so the solver plugin will know which suffixes to collect\n",
    "    m.N=Set(initialize=N)\n",
    "    m.L=Set(initialize=L)\n",
    "    m.G=Set(initialize=G)\n",
    "    m.p=Var(m.G, bounds = (0,3500))#This is power generation. Could also declare as m.p=Var(m.G,within=PositiveReals)\n",
    "    m.flow=Var(m.L, bounds = (-1000,1000))#This is power flow on a line\n",
    "    m.system_cost=Objective(expr=sum(m.p[g]*VarCost[g] for g in m.G), sense=minimize)#Objective is to minimize costs\n",
    "    m.MaxGeneration=Constraint(m.G, rule=lambda m, g:  m.p[g] <= SpringPMax[g])\n",
    "    m.NodePowerBalanceConstraint=Constraint(m.N, rule=lambda m, n: sum(LineToBus[l,n]*m.flow[l] for l in L)-sum(LineFromBus[l,n]*m.flow[l] for l in L)+sum(GeneratorInBus[g,n]*m.p[g] for g in G) == POffPeakSpringDemand[n])\n",
    "    m.KVLAroundLoopConstraint=Constraint(rule=lambda m: sum(LineReactance[l]*m.flow[l] for l in L)==0)#Note that in the data we defined the lines L1-2, L2-3, and L3,1 . That way the coefficient of each one in the KVL loop is positive 1.\n",
    "    m.MaxFlow=Constraint(m.L, rule=lambda m, l:  m.flow[l] <= LineCapacity[l])\n",
    "    m.MaxCounterFlow=Constraint(m.L, rule=lambda m, l:  m.flow[l] >= -LineCapacity[l])\n",
    "    return m"
   ]
  },
  {
   "cell_type": "code",
   "execution_count": 40,
   "id": "18ff9bab",
   "metadata": {
    "scrolled": true
   },
   "outputs": [
    {
     "name": "stdout",
     "output_type": "stream",
     "text": [
      "# ==========================================================\n",
      "# = Solver Results                                         =\n",
      "# ==========================================================\n",
      "# ----------------------------------------------------------\n",
      "#   Problem Information\n",
      "# ----------------------------------------------------------\n",
      "Problem: \n",
      "- Name: unknown\n",
      "  Lower bound: 866218.3\n",
      "  Upper bound: 866218.3\n",
      "  Number of objectives: 1\n",
      "  Number of constraints: 39\n",
      "  Number of variables: 32\n",
      "  Number of nonzeros: 72\n",
      "  Sense: minimize\n",
      "# ----------------------------------------------------------\n",
      "#   Solver Information\n",
      "# ----------------------------------------------------------\n",
      "Solver: \n",
      "- Status: ok\n",
      "  Termination condition: optimal\n",
      "  Statistics: \n",
      "    Branch and bound: \n",
      "      Number of bounded subproblems: 0\n",
      "      Number of created subproblems: 0\n",
      "  Error rc: 0\n",
      "  Time: 0.07010221481323242\n",
      "# ----------------------------------------------------------\n",
      "#   Solution Information\n",
      "# ----------------------------------------------------------\n",
      "Solution: \n",
      "- number of solutions: 0\n",
      "  number of solutions displayed: 0\n"
     ]
    }
   ],
   "source": [
    "m= PeakOffSpringED()\n",
    "SolverFactory('glpk',executable='D:\\download\\glpk-4.65\\w64\\glpsol.exe').solve(m).write()"
   ]
  },
  {
   "cell_type": "code",
   "execution_count": 41,
   "id": "84e6740b",
   "metadata": {},
   "outputs": [
    {
     "name": "stdout",
     "output_type": "stream",
     "text": [
      "SOLUTION- spring offpeak hour\n",
      "The total system cost is = $ 866218.2999999997\n",
      "Generation in MW\n",
      "generator  1 = 1148.40 \n",
      "generator  2 = 402.15 \n",
      "generator  3 = 2491.20 \n",
      "generator  4 = 1530.50 \n",
      "generator  5 = 2119.00 \n",
      "generator  6 = 763.20 \n",
      "generator  7 = 2558.20 \n",
      "generator  8 = 423.50 \n",
      "generator  9 = 697.90 \n",
      "generator 10 = 697.90 \n",
      "generator 11 = 583.20 \n",
      "generator 12 = 920.00 \n",
      "generator 13 = 1753.60 \n",
      "generator 14 = 799.20 \n",
      "generator 15 = 977.50 \n",
      "generator 16 = 2244.80 \n",
      "generator 17 = 730.00 \n",
      "generator 18 = 271.20 \n",
      "generator 19 = 979.70 \n",
      "generator 20 = 670.00 \n",
      "generator 21 = 1205.00 \n",
      "generator 22 = 1250.00 \n",
      "generator 23 = 1400.00 \n",
      "generator 24 = 1441.10 \n",
      "generator 25 = 384.30 \n",
      "generator 26 = 475.45 \n",
      "generator 27 = 0.00 \n",
      "generator 28 = 0.00 \n",
      "Flow on transmission lines in MW\n",
      "line  1 = 377.23 \n",
      "line  2 = -188.62 \n",
      "line  3 = -188.62 \n",
      "LMPs in $/MWh\n",
      "Node  1 = 47.00\n",
      "Node  2 = 47.00\n",
      "Node  3 = 47.00\n"
     ]
    }
   ],
   "source": [
    "print('SOLUTION- spring offpeak hour')\n",
    "print('The total system cost is = $',m.system_cost())\n",
    "print('Generation in MW')\n",
    "for g in G:\n",
    "        print(\"generator {0:2d} = {1:.2f} \".format(g+1, m.p[g]()))\n",
    "print('Flow on transmission lines in MW')\n",
    "for l in L:\n",
    "        print(\"line {0:2d} = {1:.2f} \".format(l+1, m.flow[l]()))\n",
    "print('LMPs in $/MWh')\n",
    "for n in N:\n",
    "        print(\"Node {0:2d} = {1:.2f}\".format(n+1,m.dual[m.NodePowerBalanceConstraint[n]]))"
   ]
  }
 ],
 "metadata": {
  "kernelspec": {
   "display_name": "Python 3 (ipykernel)",
   "language": "python",
   "name": "python3"
  },
  "language_info": {
   "codemirror_mode": {
    "name": "ipython",
    "version": 3
   },
   "file_extension": ".py",
   "mimetype": "text/x-python",
   "name": "python",
   "nbconvert_exporter": "python",
   "pygments_lexer": "ipython3",
   "version": "3.9.13"
  }
 },
 "nbformat": 4,
 "nbformat_minor": 5
}
