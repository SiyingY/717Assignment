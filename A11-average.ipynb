{
 "cells": [
  {
   "cell_type": "code",
   "execution_count": 1,
   "id": "143c4aea",
   "metadata": {},
   "outputs": [],
   "source": [
    "import os\n",
    "import pandas as pd\n",
    "import numpy as np\n",
    "import matplotlib.pyplot as plt\n",
    "from pyomo.environ import *\n",
    "opt = SolverFactory('glpk').executable = 'D:\\download\\glpk-4.65\\w64'"
   ]
  },
  {
   "cell_type": "code",
   "execution_count": 52,
   "id": "5a4daa87",
   "metadata": {},
   "outputs": [],
   "source": [
    "#Read generators and demand data as two dataframes  Desktop717data\n",
    "df_genData=pd.read_excel(\"Desktop/717/data/A11.xlsx\",sheet_name=\"GeneratorsData\",skiprows=1) #read data from generators tab and skip the first row\n",
    "df_AverloadsData=pd.read_excel(\"Desktop/717/data/A11.xlsx\",sheet_name=\"AverageloadData\",skiprows=1)\n",
    "df_PeakloadsData=pd.read_excel(\"Desktop/717/data/A11.xlsx\",sheet_name=\"PeakLoadData\",skiprows=1) \n",
    "df_linesData=pd.read_excel(\"Desktop/717/data/A11.xlsx\",sheet_name=\"LinesData\",skiprows=1) "
   ]
  },
  {
   "cell_type": "code",
   "execution_count": 53,
   "id": "04b2774c",
   "metadata": {},
   "outputs": [
    {
     "name": "stdout",
     "output_type": "stream",
     "text": [
      "We read data for 28 power generating units\n",
      "We read data for 3 nodes\n",
      "We read data for 3 transmission lines\n"
     ]
    }
   ],
   "source": [
    "#define the size of the sets\n",
    "NumGens=len(df_genData)\n",
    "NumNodes=len(df_AverloadsData)\n",
    "NumLines=len(df_linesData)\n",
    "#T=len(df_demandData)\n",
    "print(\"We read data for\", NumGens, \"power generating units\")\n",
    "print(\"We read data for\", NumNodes, \"nodes\")\n",
    "print(\"We read data for\", NumLines, \"transmission lines\")"
   ]
  },
  {
   "cell_type": "code",
   "execution_count": 54,
   "id": "10861de4",
   "metadata": {},
   "outputs": [],
   "source": [
    "#Define Indexes\n",
    "G=np.array([g for g in range(0,NumGens)])  \n",
    "N=np.array([n for n in range(0,NumNodes)])\n",
    "L=np.array([l for l in range(0,NumLines)])"
   ]
  },
  {
   "cell_type": "code",
   "execution_count": 55,
   "id": "7ac29dbc",
   "metadata": {
    "scrolled": true
   },
   "outputs": [
    {
     "data": {
      "text/plain": [
       "Index(['GenName', 'Node', 'FixedCost', 'SDCost', 'SUCost', 'VarCost', 'MaxGen',\n",
       "       'SpringMaxGen', 'MinGen', 'RampDown', 'RampSD', 'RampSU', 'RampUp',\n",
       "       'MinUpTime', 'MinDownTime', 'ReqUp', 'ReqDown', 'InitialStatus',\n",
       "       'InitialGen', 'Plant Name', 'Fuel Type', 'Average Emission Rate'],\n",
       "      dtype='object')"
      ]
     },
     "execution_count": 55,
     "metadata": {},
     "output_type": "execute_result"
    }
   ],
   "source": [
    "df_genData.columns"
   ]
  },
  {
   "cell_type": "code",
   "execution_count": 56,
   "id": "00a1b78e",
   "metadata": {},
   "outputs": [],
   "source": [
    "##Declare the generator's parameters and assign them the data we read before\n",
    "VarCost=df_genData.loc[:,'VarCost'].to_numpy()\n",
    "PMax=df_genData.loc[:,'MaxGen'].to_numpy()\n",
    "SpringPMax=df_genData.loc[:,'SpringMaxGen'].to_numpy()\n",
    "PMin=df_genData.loc[:,'MinGen'].to_numpy()\n",
    "GenNode=df_genData.loc[:,'Node'].to_numpy()"
   ]
  },
  {
   "cell_type": "code",
   "execution_count": 7,
   "id": "8c423ebc",
   "metadata": {},
   "outputs": [
    {
     "data": {
      "text/plain": [
       "Index(['LineName', 'NodeFrom', 'NodeTo', 'Reactance', 'Capacity'], dtype='object')"
      ]
     },
     "execution_count": 7,
     "metadata": {},
     "output_type": "execute_result"
    }
   ],
   "source": [
    "df_linesData.columns  #In the data we defined 3 lines as: L1-2, L2-3, and L3-1.\n",
    "#We could have defined them in other way, but this is convenient for the KVL equation"
   ]
  },
  {
   "cell_type": "code",
   "execution_count": 57,
   "id": "84300347",
   "metadata": {},
   "outputs": [],
   "source": [
    "##Declare the transmission lines' parameters and assign them the data we read before\n",
    "NodeFrom=df_linesData.loc[:,'NodeFrom'].to_numpy()\n",
    "NodeTo=df_linesData.loc[:,'NodeTo'].to_numpy()\n",
    "LineReactance=df_linesData.loc[:,'Reactance'].to_numpy()\n",
    "LineCapacity=df_linesData.loc[:,'Capacity'].to_numpy()"
   ]
  },
  {
   "cell_type": "code",
   "execution_count": 9,
   "id": "642ab76c",
   "metadata": {
    "scrolled": true
   },
   "outputs": [
    {
     "data": {
      "text/plain": [
       "Index(['LoadName', 'Node', 'AWinterPeak', 'AWinterOffPeak', 'ASpringPeak',\n",
       "       'ASpringOffPeak', 'ASummerPeak', 'ASummerOffPeak', 'AFallPeak',\n",
       "       'AFallOffPeak'],\n",
       "      dtype='object')"
      ]
     },
     "execution_count": 9,
     "metadata": {},
     "output_type": "execute_result"
    }
   ],
   "source": [
    "df_AverloadsData.columns"
   ]
  },
  {
   "cell_type": "code",
   "execution_count": 58,
   "id": "6aaf9313",
   "metadata": {},
   "outputs": [],
   "source": [
    "ALoadBus=df_AverloadsData.loc[:,'Node'].to_numpy( )\n",
    "APeakWinterDemand=df_AverloadsData.loc[:,'AWinterPeak'].to_numpy( )\n",
    "AOffPeakWinterDemand=df_AverloadsData.loc[:,'AWinterOffPeak'].to_numpy( )\n",
    "APeakSummerDemand=df_AverloadsData.loc[:,'ASummerPeak'].to_numpy( )\n",
    "AOffPeakSummerDemand=df_AverloadsData.loc[:,'ASummerOffPeak'].to_numpy( )\n",
    "APeakFallDemand=df_AverloadsData.loc[:,'AFallPeak'].to_numpy( )\n",
    "AOffPeakFallDemand=df_AverloadsData.loc[:,'AFallOffPeak'].to_numpy( )\n",
    "APeakSpringDemand=df_AverloadsData.loc[:,'ASpringPeak'].to_numpy( )\n",
    "AOffPeakSpringDemand=df_AverloadsData.loc[:,'ASpringOffPeak'].to_numpy( )"
   ]
  },
  {
   "cell_type": "code",
   "execution_count": 11,
   "id": "483159ba",
   "metadata": {},
   "outputs": [
    {
     "data": {
      "text/plain": [
       "array([3300.8, 7426.8, 5776.4])"
      ]
     },
     "execution_count": 11,
     "metadata": {},
     "output_type": "execute_result"
    }
   ],
   "source": [
    "AOffPeakWinterDemand"
   ]
  },
  {
   "cell_type": "code",
   "execution_count": 12,
   "id": "35453f51",
   "metadata": {},
   "outputs": [],
   "source": [
    "# define a function indicatorMatrix that creates indicator matrices to relate generators with their node\n",
    "# and relate lines with the nodes\n",
    "#dataRows is a column vector of NumRows rows. Each element says the column where this row should be a one in the final matrix\n",
    "def IndicatorMatrix(NumRows, NumCols, dataRows):\n",
    "    matrix= np.zeros((NumRows, NumCols),dtype=int)\n",
    "    for i in range(0,NumRows):\n",
    "        matrix[i,dataRows[i]-1]=1\n",
    "    return matrix"
   ]
  },
  {
   "cell_type": "code",
   "execution_count": 13,
   "id": "13aea2a6",
   "metadata": {},
   "outputs": [],
   "source": [
    "#Create indicator matrices using the function defined above\n",
    "#GeneratorInBus is a matrix of G rows and N columns that has 1 in the position g,n if generator g is AT node N, 0 otherwise\n",
    "GeneratorInBus=IndicatorMatrix(NumGens,NumNodes,GenNode)\n",
    "#LineFromBus is an indicator matrix of L rows and N columns that has 1 in the position l,n if line l departs FROM node N, 0 otherwise\n",
    "LineFromBus=IndicatorMatrix(NumLines,NumNodes,NodeFrom)\n",
    "#LineToBus is an indicator matrix of L rows and N columns that has 1 in the position l,n if line l arrives TO node N, 0 otherwise\n",
    "LineToBus=IndicatorMatrix(NumLines,NumNodes,NodeTo)"
   ]
  },
  {
   "cell_type": "code",
   "execution_count": 14,
   "id": "45231782",
   "metadata": {},
   "outputs": [
    {
     "data": {
      "text/plain": [
       "array([[1, 0, 0],\n",
       "       [1, 0, 0],\n",
       "       [0, 1, 0],\n",
       "       [0, 1, 0],\n",
       "       [0, 0, 1],\n",
       "       [0, 0, 1],\n",
       "       [0, 0, 1],\n",
       "       [1, 0, 0],\n",
       "       [1, 0, 0],\n",
       "       [1, 0, 0],\n",
       "       [1, 0, 0],\n",
       "       [1, 0, 0],\n",
       "       [0, 1, 0],\n",
       "       [0, 1, 0],\n",
       "       [0, 1, 0],\n",
       "       [0, 1, 0],\n",
       "       [0, 0, 1],\n",
       "       [1, 0, 0],\n",
       "       [0, 0, 1],\n",
       "       [0, 0, 1],\n",
       "       [1, 0, 0],\n",
       "       [0, 1, 0],\n",
       "       [0, 1, 0],\n",
       "       [0, 0, 1],\n",
       "       [0, 0, 1],\n",
       "       [0, 0, 1],\n",
       "       [1, 0, 0],\n",
       "       [0, 1, 0]])"
      ]
     },
     "execution_count": 14,
     "metadata": {},
     "output_type": "execute_result"
    }
   ],
   "source": [
    "GeneratorInBus"
   ]
  },
  {
   "cell_type": "code",
   "execution_count": 29,
   "id": "cc6ef6fd",
   "metadata": {},
   "outputs": [],
   "source": [
    "#UC MODEL of Average winter peak hour\n",
    "def APeakWinterED():\n",
    "    m=ConcreteModel()\n",
    "    #m.dual = Suffix(direction=Suffix.IMPORT_EXPORT)\n",
    "    m.dual = Suffix(direction=Suffix.IMPORT)#Create a 'dual' suffix component on the instance so the solver plugin will know which suffixes to collect\n",
    "    m.N=Set(initialize=N)\n",
    "    m.L=Set(initialize=L)\n",
    "    m.G=Set(initialize=G)\n",
    "    m.p=Var(m.G, bounds = (0,3500))#This is power generation. Could also declare as m.p=Var(m.G,within=PositiveReals)\n",
    "    m.flow=Var(m.L, bounds = (-1000,1000))#This is power flow on a line\n",
    "    m.system_cost=Objective(expr=sum(m.p[g]*VarCost[g] for g in m.G), sense=minimize)#Objective is to minimize costs\n",
    "    m.MaxGeneration=Constraint(m.G, rule=lambda m, g:  m.p[g] <= PMax[g])\n",
    "    m.NodePowerBalanceConstraint=Constraint(m.N, rule=lambda m, n: sum(LineToBus[l,n]*m.flow[l] for l in L)\n",
    "                                            -sum(LineFromBus[l,n]*m.flow[l] for l in L)+sum(GeneratorInBus[g,n]*m.p[g] for g in G)\n",
    "                                            == APeakWinterDemand[n])\n",
    "    m.KVLAroundLoopConstraint=Constraint(rule=lambda m: sum(LineReactance[l]*m.flow[l] for l in L)==0)#Note that in the data we defined the lines L1-2, L2-3, and L3,1 . That way the coefficient of each one in the KVL loop is positive 1.\n",
    "    m.MaxFlow=Constraint(m.L, rule=lambda m, l:  m.flow[l] <= LineCapacity[l])\n",
    "    m.MaxCounterFlow=Constraint(m.L, rule=lambda m, l:  m.flow[l] >= -LineCapacity[l])\n",
    "    return m\n",
    "\n"
   ]
  },
  {
   "cell_type": "code",
   "execution_count": 16,
   "id": "07fd32ad",
   "metadata": {},
   "outputs": [
    {
     "data": {
      "text/plain": [
       "array([3300.8, 7426.8, 5776.4])"
      ]
     },
     "execution_count": 16,
     "metadata": {},
     "output_type": "execute_result"
    }
   ],
   "source": [
    "AOffPeakWinterDemand"
   ]
  },
  {
   "cell_type": "code",
   "execution_count": 32,
   "id": "bd6718b1",
   "metadata": {},
   "outputs": [],
   "source": [
    "#UC MODEL of Average winter offpeak hour\n",
    "def AOffPeakWinterED():\n",
    "    m=ConcreteModel()\n",
    "    #m.dual = Suffix(direction=Suffix.IMPORT_EXPORT)\n",
    "    m.dual = Suffix(direction=Suffix.IMPORT)#Create a 'dual' suffix component on the instance so the solver plugin will know which suffixes to collect\n",
    "    m.N=Set(initialize=N)\n",
    "    m.L=Set(initialize=L)\n",
    "    m.G=Set(initialize=G)\n",
    "    m.p=Var(m.G, bounds = (0,3500))#This is power generation. Could also declare as m.p=Var(m.G,within=PositiveReals)\n",
    "    m.flow=Var(m.L, bounds = (-1000,1000))#This is power flow on a line\n",
    "    m.system_cost=Objective(expr=sum(m.p[g]*VarCost[g] for g in m.G), sense=minimize)#Objective is to minimize costs\n",
    "    m.MaxGeneration=Constraint(m.G, rule=lambda m, g:  m.p[g] <= PMax[g])\n",
    "    m.NodePowerBalanceConstraint=Constraint(m.N, rule=lambda m, n: sum(LineToBus[l,n]*m.flow[l] for l in L)-sum(LineFromBus[l,n]*m.flow[l] for l in L)+sum(GeneratorInBus[g,n]*m.p[g] for g in G) == AOffPeakWinterDemand[n])\n",
    "    m.KVLAroundLoopConstraint=Constraint(rule=lambda m: sum(LineReactance[l]*m.flow[l] for l in L)==0)#Note that in the data we defined the lines L1-2, L2-3, and L3,1 . That way the coefficient of each one in the KVL loop is positive 1.\n",
    "    m.MaxFlow=Constraint(m.L, rule=lambda m, l:  m.flow[l] <= LineCapacity[l])\n",
    "    m.MaxCounterFlow=Constraint(m.L, rule=lambda m, l:  m.flow[l] >= -LineCapacity[l])\n",
    "    return m\n"
   ]
  },
  {
   "cell_type": "code",
   "execution_count": 30,
   "id": "b1e14cb0",
   "metadata": {
    "scrolled": false
   },
   "outputs": [
    {
     "name": "stdout",
     "output_type": "stream",
     "text": [
      "# ==========================================================\n",
      "# = Solver Results                                         =\n",
      "# ==========================================================\n",
      "# ----------------------------------------------------------\n",
      "#   Problem Information\n",
      "# ----------------------------------------------------------\n",
      "Problem: \n",
      "- Name: unknown\n",
      "  Lower bound: 349856.604\n",
      "  Upper bound: 349856.604\n",
      "  Number of objectives: 1\n",
      "  Number of constraints: 39\n",
      "  Number of variables: 32\n",
      "  Number of nonzeros: 72\n",
      "  Sense: minimize\n",
      "# ----------------------------------------------------------\n",
      "#   Solver Information\n",
      "# ----------------------------------------------------------\n",
      "Solver: \n",
      "- Status: ok\n",
      "  Termination condition: optimal\n",
      "  Statistics: \n",
      "    Branch and bound: \n",
      "      Number of bounded subproblems: 0\n",
      "      Number of created subproblems: 0\n",
      "  Error rc: 0\n",
      "  Time: 0.056145668029785156\n",
      "# ----------------------------------------------------------\n",
      "#   Solution Information\n",
      "# ----------------------------------------------------------\n",
      "Solution: \n",
      "- number of solutions: 0\n",
      "  number of solutions displayed: 0\n"
     ]
    }
   ],
   "source": [
    "m=APeakWinterED()\n",
    "SolverFactory('glpk',executable='D:\\download\\glpk-4.65\\w64\\glpsol.exe').solve(m).write()"
   ]
  },
  {
   "cell_type": "code",
   "execution_count": 31,
   "id": "f76cd66a",
   "metadata": {
    "scrolled": false
   },
   "outputs": [
    {
     "name": "stdout",
     "output_type": "stream",
     "text": [
      "SOLUTION-Average winter peak\n",
      "The total system cost is = $ 349856.60400000005\n",
      "Generation in MW\n",
      "generator  1 = 0.00 \n",
      "generator  2 = 0.00 \n",
      "generator  3 = 0.00 \n",
      "generator  4 = 0.00 \n",
      "generator  5 = 0.00 \n",
      "generator  6 = 0.00 \n",
      "generator  7 = 0.00 \n",
      "generator  8 = 0.00 \n",
      "generator  9 = 697.90 \n",
      "generator 10 = 697.90 \n",
      "generator 11 = 0.00 \n",
      "generator 12 = 920.00 \n",
      "generator 13 = 0.00 \n",
      "generator 14 = 0.00 \n",
      "generator 15 = 977.50 \n",
      "generator 16 = 2244.80 \n",
      "generator 17 = 730.00 \n",
      "generator 18 = 0.00 \n",
      "generator 19 = 569.55 \n",
      "generator 20 = 670.00 \n",
      "generator 21 = 2337.70 \n",
      "generator 22 = 2425.00 \n",
      "generator 23 = 2716.00 \n",
      "generator 24 = 2795.73 \n",
      "generator 25 = 745.54 \n",
      "generator 26 = 922.37 \n",
      "generator 27 = 0.00 \n",
      "generator 28 = 0.00 \n",
      "Flow on transmission lines in MW\n",
      "line  1 = 384.23 \n",
      "line  2 = -4.97 \n",
      "line  3 = -379.27 \n",
      "LMPs in $/MWh\n",
      "Node  1 = 31.00\n",
      "Node  2 = 31.00\n",
      "Node  3 = 31.00\n"
     ]
    }
   ],
   "source": [
    "print('SOLUTION-Average winter peak')\n",
    "print('The total system cost is = $',m.system_cost())\n",
    "print('Generation in MW')\n",
    "for g in G:\n",
    "        print(\"generator {0:2d} = {1:.2f} \".format(g+1, m.p[g]()))\n",
    "print('Flow on transmission lines in MW')\n",
    "for l in L:\n",
    "        print(\"line {0:2d} = {1:.2f} \".format(l+1, m.flow[l]()))\n",
    "print('LMPs in $/MWh')\n",
    "for n in N:\n",
    "        print(\"Node {0:2d} = {1:.2f}\".format(n+1,m.dual[m.NodePowerBalanceConstraint[n]]))"
   ]
  },
  {
   "cell_type": "code",
   "execution_count": 33,
   "id": "2d648c72",
   "metadata": {},
   "outputs": [
    {
     "name": "stdout",
     "output_type": "stream",
     "text": [
      "# ==========================================================\n",
      "# = Solver Results                                         =\n",
      "# ==========================================================\n",
      "# ----------------------------------------------------------\n",
      "#   Problem Information\n",
      "# ----------------------------------------------------------\n",
      "Problem: \n",
      "- Name: unknown\n",
      "  Lower bound: 268630.747\n",
      "  Upper bound: 268630.747\n",
      "  Number of objectives: 1\n",
      "  Number of constraints: 39\n",
      "  Number of variables: 32\n",
      "  Number of nonzeros: 72\n",
      "  Sense: minimize\n",
      "# ----------------------------------------------------------\n",
      "#   Solver Information\n",
      "# ----------------------------------------------------------\n",
      "Solver: \n",
      "- Status: ok\n",
      "  Termination condition: optimal\n",
      "  Statistics: \n",
      "    Branch and bound: \n",
      "      Number of bounded subproblems: 0\n",
      "      Number of created subproblems: 0\n",
      "  Error rc: 0\n",
      "  Time: 0.06637144088745117\n",
      "# ----------------------------------------------------------\n",
      "#   Solution Information\n",
      "# ----------------------------------------------------------\n",
      "Solution: \n",
      "- number of solutions: 0\n",
      "  number of solutions displayed: 0\n"
     ]
    }
   ],
   "source": [
    "m= AOffPeakWinterED()\n",
    "SolverFactory('glpk',executable='D:\\download\\glpk-4.65\\w64\\glpsol.exe').solve(m).write()\n"
   ]
  },
  {
   "cell_type": "code",
   "execution_count": 34,
   "id": "036eada8",
   "metadata": {
    "scrolled": false
   },
   "outputs": [
    {
     "name": "stdout",
     "output_type": "stream",
     "text": [
      "SOLUTION-Average winter offpeak\n",
      "The total system cost is = $ 268630.74700000003\n",
      "Generation in MW\n",
      "generator  1 = 0.00 \n",
      "generator  2 = 0.00 \n",
      "generator  3 = 0.00 \n",
      "generator  4 = 0.00 \n",
      "generator  5 = 0.00 \n",
      "generator  6 = 0.00 \n",
      "generator  7 = 0.00 \n",
      "generator  8 = 0.00 \n",
      "generator  9 = 697.90 \n",
      "generator 10 = 697.90 \n",
      "generator 11 = 0.00 \n",
      "generator 12 = 920.00 \n",
      "generator 13 = 0.00 \n",
      "generator 14 = 0.00 \n",
      "generator 15 = 0.00 \n",
      "generator 16 = 1515.85 \n",
      "generator 17 = 730.00 \n",
      "generator 18 = 0.00 \n",
      "generator 19 = 0.00 \n",
      "generator 20 = 0.00 \n",
      "generator 21 = 2337.70 \n",
      "generator 22 = 2425.00 \n",
      "generator 23 = 2716.00 \n",
      "generator 24 = 2795.73 \n",
      "generator 25 = 745.54 \n",
      "generator 26 = 922.37 \n",
      "generator 27 = 0.00 \n",
      "generator 28 = 0.00 \n",
      "Flow on transmission lines in MW\n",
      "line  1 = 707.55 \n",
      "line  2 = -62.40 \n",
      "line  3 = -645.15 \n",
      "LMPs in $/MWh\n",
      "Node  1 = 24.00\n",
      "Node  2 = 24.00\n",
      "Node  3 = 24.00\n"
     ]
    }
   ],
   "source": [
    "print('SOLUTION-Average winter offpeak')\n",
    "print('The total system cost is = $',m.system_cost())\n",
    "print('Generation in MW')\n",
    "for g in G:\n",
    "        print(\"generator {0:2d} = {1:.2f} \".format(g+1, m.p[g]()))\n",
    "print('Flow on transmission lines in MW')\n",
    "for l in L:\n",
    "        print(\"line {0:2d} = {1:.2f} \".format(l+1, m.flow[l]()))\n",
    "print('LMPs in $/MWh')\n",
    "for n in N:\n",
    "        print(\"Node {0:2d} = {1:.2f}\".format(n+1,m.dual[m.NodePowerBalanceConstraint[n]]))"
   ]
  },
  {
   "cell_type": "markdown",
   "id": "b9333d70",
   "metadata": {},
   "source": [
    "#AOffPeakWinterDemand=df_AverloadsData.loc[:,'AWinterOffPeak'].to_numpy( )\n",
    "APeakSummerDemand=df_AverloadsData.loc[:,'ASummerPeak'].to_numpy( )\n",
    "AOffPeakSummerDemand=df_AverloadsData.loc[:,'ASummerOffPeak'].to_numpy( )\n",
    "APeakFallDemand=df_AverloadsData.loc[:,'AFallPeak'].to_numpy( )\n",
    "AOffPeakFallDemand=df_AverloadsData.loc[:,'AFallOffPeak'].to_numpy( )\n",
    "APeakSpringDemand=df_AverloadsData.loc[:,'ASpringPeak'].to_numpy( )\n",
    "AOffPeakSpringDemand=df_AverloadsData.loc[:,'ASpringOffPeak'].to_numpy( )"
   ]
  },
  {
   "cell_type": "code",
   "execution_count": 35,
   "id": "ce6754ad",
   "metadata": {},
   "outputs": [],
   "source": [
    "#UC MODEL of Average summer peak hour\n",
    "def APeakSummerED():\n",
    "    m=ConcreteModel()\n",
    "    #m.dual = Suffix(direction=Suffix.IMPORT_EXPORT)\n",
    "    m.dual = Suffix(direction=Suffix.IMPORT)#Create a 'dual' suffix component on the instance so the solver plugin will know which suffixes to collect\n",
    "    m.N=Set(initialize=N)\n",
    "    m.L=Set(initialize=L)\n",
    "    m.G=Set(initialize=G)\n",
    "    m.p=Var(m.G, bounds = (0,3500))#This is power generation. Could also declare as m.p=Var(m.G,within=PositiveReals)\n",
    "    m.flow=Var(m.L, bounds = (-1000,1000))#This is power flow on a line\n",
    "    m.system_cost=Objective(expr=sum(m.p[g]*VarCost[g] for g in m.G), sense=minimize)#Objective is to minimize costs\n",
    "    m.MaxGeneration=Constraint(m.G, rule=lambda m, g:  m.p[g] <= PMax[g])\n",
    "    m.NodePowerBalanceConstraint=Constraint(m.N, rule=lambda m, n: sum(LineToBus[l,n]*m.flow[l] for l in L)-sum(LineFromBus[l,n]*m.flow[l] for l in L)+sum(GeneratorInBus[g,n]*m.p[g] for g in G) == APeakSummerDemand[n])\n",
    "    m.KVLAroundLoopConstraint=Constraint(rule=lambda m: sum(LineReactance[l]*m.flow[l] for l in L)==0)#Note that in the data we defined the lines L1-2, L2-3, and L3,1 . That way the coefficient of each one in the KVL loop is positive 1.\n",
    "    m.MaxFlow=Constraint(m.L, rule=lambda m, l:  m.flow[l] <= LineCapacity[l])\n",
    "    m.MaxCounterFlow=Constraint(m.L, rule=lambda m, l:  m.flow[l] >= -LineCapacity[l])\n",
    "    return m"
   ]
  },
  {
   "cell_type": "code",
   "execution_count": 36,
   "id": "8d0ba98f",
   "metadata": {},
   "outputs": [
    {
     "name": "stdout",
     "output_type": "stream",
     "text": [
      "# ==========================================================\n",
      "# = Solver Results                                         =\n",
      "# ==========================================================\n",
      "# ----------------------------------------------------------\n",
      "#   Problem Information\n",
      "# ----------------------------------------------------------\n",
      "Problem: \n",
      "- Name: unknown\n",
      "  Lower bound: 575351.661\n",
      "  Upper bound: 575351.661\n",
      "  Number of objectives: 1\n",
      "  Number of constraints: 39\n",
      "  Number of variables: 32\n",
      "  Number of nonzeros: 72\n",
      "  Sense: minimize\n",
      "# ----------------------------------------------------------\n",
      "#   Solver Information\n",
      "# ----------------------------------------------------------\n",
      "Solver: \n",
      "- Status: ok\n",
      "  Termination condition: optimal\n",
      "  Statistics: \n",
      "    Branch and bound: \n",
      "      Number of bounded subproblems: 0\n",
      "      Number of created subproblems: 0\n",
      "  Error rc: 0\n",
      "  Time: 0.05520987510681152\n",
      "# ----------------------------------------------------------\n",
      "#   Solution Information\n",
      "# ----------------------------------------------------------\n",
      "Solution: \n",
      "- number of solutions: 0\n",
      "  number of solutions displayed: 0\n"
     ]
    }
   ],
   "source": [
    "m= APeakSummerED()\n",
    "SolverFactory('glpk',executable='D:\\download\\glpk-4.65\\w64\\glpsol.exe').solve(m).write()"
   ]
  },
  {
   "cell_type": "code",
   "execution_count": 37,
   "id": "f023695e",
   "metadata": {},
   "outputs": [
    {
     "name": "stdout",
     "output_type": "stream",
     "text": [
      "SOLUTION-Average summer peak\n",
      "The total system cost is = $ 575351.6610000001\n",
      "Generation in MW\n",
      "generator  1 = 0.00 \n",
      "generator  2 = 0.00 \n",
      "generator  3 = 2163.00 \n",
      "generator  4 = 1530.50 \n",
      "generator  5 = 0.00 \n",
      "generator  6 = 0.00 \n",
      "generator  7 = 734.45 \n",
      "generator  8 = 423.50 \n",
      "generator  9 = 697.90 \n",
      "generator 10 = 697.90 \n",
      "generator 11 = 0.00 \n",
      "generator 12 = 920.00 \n",
      "generator 13 = 0.00 \n",
      "generator 14 = 799.20 \n",
      "generator 15 = 977.50 \n",
      "generator 16 = 2244.80 \n",
      "generator 17 = 730.00 \n",
      "generator 18 = 271.20 \n",
      "generator 19 = 979.70 \n",
      "generator 20 = 670.00 \n",
      "generator 21 = 2337.70 \n",
      "generator 22 = 2425.00 \n",
      "generator 23 = 2716.00 \n",
      "generator 24 = 2795.73 \n",
      "generator 25 = 745.54 \n",
      "generator 26 = 922.37 \n",
      "generator 27 = 0.00 \n",
      "generator 28 = 0.00 \n",
      "Flow on transmission lines in MW\n",
      "line  1 = -354.10 \n",
      "line  2 = 900.00 \n",
      "line  3 = -545.90 \n",
      "LMPs in $/MWh\n",
      "Node  1 = 37.50\n",
      "Node  2 = 37.00\n",
      "Node  3 = 38.00\n"
     ]
    }
   ],
   "source": [
    "print('SOLUTION-Average summer peak')\n",
    "print('The total system cost is = $',m.system_cost())\n",
    "print('Generation in MW')\n",
    "for g in G:\n",
    "        print(\"generator {0:2d} = {1:.2f} \".format(g+1, m.p[g]()))\n",
    "print('Flow on transmission lines in MW')\n",
    "for l in L:\n",
    "        print(\"line {0:2d} = {1:.2f} \".format(l+1, m.flow[l]()))\n",
    "print('LMPs in $/MWh')\n",
    "for n in N:\n",
    "        print(\"Node {0:2d} = {1:.2f}\".format(n+1,m.dual[m.NodePowerBalanceConstraint[n]]))"
   ]
  },
  {
   "cell_type": "code",
   "execution_count": null,
   "id": "e4efda4e",
   "metadata": {},
   "outputs": [],
   "source": []
  },
  {
   "cell_type": "code",
   "execution_count": null,
   "id": "6744c4e8",
   "metadata": {},
   "outputs": [],
   "source": []
  },
  {
   "cell_type": "code",
   "execution_count": 38,
   "id": "8616f3f9",
   "metadata": {},
   "outputs": [],
   "source": [
    "#UC MODEL of Average summer offpeak hour\n",
    "def AOffPeakSummerED():\n",
    "    m=ConcreteModel()\n",
    "    #m.dual = Suffix(direction=Suffix.IMPORT_EXPORT)\n",
    "    m.dual = Suffix(direction=Suffix.IMPORT)#Create a 'dual' suffix component on the instance so the solver plugin will know which suffixes to collect\n",
    "    m.N=Set(initialize=N)\n",
    "    m.L=Set(initialize=L)\n",
    "    m.G=Set(initialize=G)\n",
    "    m.p=Var(m.G, bounds = (0,3500))#This is power generation. Could also declare as m.p=Var(m.G,within=PositiveReals)\n",
    "    m.flow=Var(m.L, bounds = (-1000,1000))#This is power flow on a line\n",
    "    m.system_cost=Objective(expr=sum(m.p[g]*VarCost[g] for g in m.G), sense=minimize)#Objective is to minimize costs\n",
    "    m.MaxGeneration=Constraint(m.G, rule=lambda m, g:  m.p[g] <= PMax[g])\n",
    "    m.NodePowerBalanceConstraint=Constraint(m.N, rule=lambda m, n: sum(LineToBus[l,n]*m.flow[l] for l in L)-sum(LineFromBus[l,n]*m.flow[l] for l in L)+sum(GeneratorInBus[g,n]*m.p[g] for g in G) == AOffPeakSummerDemand[n])\n",
    "    m.KVLAroundLoopConstraint=Constraint(rule=lambda m: sum(LineReactance[l]*m.flow[l] for l in L)==0)#Note that in the data we defined the lines L1-2, L2-3, and L3,1 . That way the coefficient of each one in the KVL loop is positive 1.\n",
    "    m.MaxFlow=Constraint(m.L, rule=lambda m, l:  m.flow[l] <= LineCapacity[l])\n",
    "    m.MaxCounterFlow=Constraint(m.L, rule=lambda m, l:  m.flow[l] >= -LineCapacity[l])\n",
    "    return m"
   ]
  },
  {
   "cell_type": "code",
   "execution_count": 39,
   "id": "7b7bce00",
   "metadata": {},
   "outputs": [
    {
     "name": "stdout",
     "output_type": "stream",
     "text": [
      "# ==========================================================\n",
      "# = Solver Results                                         =\n",
      "# ==========================================================\n",
      "# ----------------------------------------------------------\n",
      "#   Problem Information\n",
      "# ----------------------------------------------------------\n",
      "Problem: \n",
      "- Name: unknown\n",
      "  Lower bound: 379566.806\n",
      "  Upper bound: 379566.806\n",
      "  Number of objectives: 1\n",
      "  Number of constraints: 39\n",
      "  Number of variables: 32\n",
      "  Number of nonzeros: 72\n",
      "  Sense: minimize\n",
      "# ----------------------------------------------------------\n",
      "#   Solver Information\n",
      "# ----------------------------------------------------------\n",
      "Solver: \n",
      "- Status: ok\n",
      "  Termination condition: optimal\n",
      "  Statistics: \n",
      "    Branch and bound: \n",
      "      Number of bounded subproblems: 0\n",
      "      Number of created subproblems: 0\n",
      "  Error rc: 0\n",
      "  Time: 0.04039478302001953\n",
      "# ----------------------------------------------------------\n",
      "#   Solution Information\n",
      "# ----------------------------------------------------------\n",
      "Solution: \n",
      "- number of solutions: 0\n",
      "  number of solutions displayed: 0\n"
     ]
    }
   ],
   "source": [
    "m= AOffPeakSummerED()\n",
    "SolverFactory('glpk',executable='D:\\download\\glpk-4.65\\w64\\glpsol.exe').solve(m).write()"
   ]
  },
  {
   "cell_type": "code",
   "execution_count": 40,
   "id": "8194e1e9",
   "metadata": {},
   "outputs": [
    {
     "name": "stdout",
     "output_type": "stream",
     "text": [
      "SOLUTION-Average summer offpeak\n",
      "The total system cost is = $ 379566.8060000001\n",
      "Generation in MW\n",
      "generator  1 = 0.00 \n",
      "generator  2 = 0.00 \n",
      "generator  3 = 0.00 \n",
      "generator  4 = 0.00 \n",
      "generator  5 = 0.00 \n",
      "generator  6 = 0.00 \n",
      "generator  7 = 0.00 \n",
      "generator  8 = 423.50 \n",
      "generator  9 = 697.90 \n",
      "generator 10 = 697.90 \n",
      "generator 11 = 0.00 \n",
      "generator 12 = 920.00 \n",
      "generator 13 = 0.00 \n",
      "generator 14 = 0.00 \n",
      "generator 15 = 977.50 \n",
      "generator 16 = 2244.80 \n",
      "generator 17 = 730.00 \n",
      "generator 18 = 104.35 \n",
      "generator 19 = 979.70 \n",
      "generator 20 = 670.00 \n",
      "generator 21 = 2337.70 \n",
      "generator 22 = 2425.00 \n",
      "generator 23 = 2716.00 \n",
      "generator 24 = 2795.73 \n",
      "generator 25 = 745.54 \n",
      "generator 26 = 922.37 \n",
      "generator 27 = 0.00 \n",
      "generator 28 = 0.00 \n",
      "Flow on transmission lines in MW\n",
      "line  1 = 638.35 \n",
      "line  2 = -172.95 \n",
      "line  3 = -465.40 \n",
      "LMPs in $/MWh\n",
      "Node  1 = 33.00\n",
      "Node  2 = 33.00\n",
      "Node  3 = 33.00\n"
     ]
    }
   ],
   "source": [
    "print('SOLUTION-Average summer offpeak')\n",
    "print('The total system cost is = $',m.system_cost())\n",
    "print('Generation in MW')\n",
    "for g in G:\n",
    "        print(\"generator {0:2d} = {1:.2f} \".format(g+1, m.p[g]()))\n",
    "print('Flow on transmission lines in MW')\n",
    "for l in L:\n",
    "        print(\"line {0:2d} = {1:.2f} \".format(l+1, m.flow[l]()))\n",
    "print('LMPs in $/MWh')\n",
    "for n in N:\n",
    "        print(\"Node {0:2d} = {1:.2f}\".format(n+1,m.dual[m.NodePowerBalanceConstraint[n]]))"
   ]
  },
  {
   "cell_type": "code",
   "execution_count": 41,
   "id": "e0619e33",
   "metadata": {},
   "outputs": [],
   "source": [
    "#UC MODEL of Average fall peak hour\n",
    "def APeakFallED():\n",
    "    m=ConcreteModel()\n",
    "    #m.dual = Suffix(direction=Suffix.IMPORT_EXPORT)\n",
    "    m.dual = Suffix(direction=Suffix.IMPORT)#Create a 'dual' suffix component on the instance so the solver plugin will know which suffixes to collect\n",
    "    m.N=Set(initialize=N)\n",
    "    m.L=Set(initialize=L)\n",
    "    m.G=Set(initialize=G)\n",
    "    m.p=Var(m.G, bounds = (0,3500))#This is power generation. Could also declare as m.p=Var(m.G,within=PositiveReals)\n",
    "    m.flow=Var(m.L, bounds = (-1000,1000))#This is power flow on a line\n",
    "    m.system_cost=Objective(expr=sum(m.p[g]*VarCost[g] for g in m.G), sense=minimize)#Objective is to minimize costs\n",
    "    m.MaxGeneration=Constraint(m.G, rule=lambda m, g:  m.p[g] <= PMax[g])\n",
    "    m.NodePowerBalanceConstraint=Constraint(m.N, rule=lambda m, n: sum(LineToBus[l,n]*m.flow[l] for l in L)-sum(LineFromBus[l,n]*m.flow[l] for l in L)+sum(GeneratorInBus[g,n]*m.p[g] for g in G) == APeakFallDemand[n])\n",
    "    m.KVLAroundLoopConstraint=Constraint(rule=lambda m: sum(LineReactance[l]*m.flow[l] for l in L)==0)#Note that in the data we defined the lines L1-2, L2-3, and L3,1 . That way the coefficient of each one in the KVL loop is positive 1.\n",
    "    m.MaxFlow=Constraint(m.L, rule=lambda m, l:  m.flow[l] <= LineCapacity[l])\n",
    "    m.MaxCounterFlow=Constraint(m.L, rule=lambda m, l:  m.flow[l] >= -LineCapacity[l])\n",
    "    return m"
   ]
  },
  {
   "cell_type": "code",
   "execution_count": 42,
   "id": "b5d3d7db",
   "metadata": {},
   "outputs": [
    {
     "name": "stdout",
     "output_type": "stream",
     "text": [
      "# ==========================================================\n",
      "# = Solver Results                                         =\n",
      "# ==========================================================\n",
      "# ----------------------------------------------------------\n",
      "#   Problem Information\n",
      "# ----------------------------------------------------------\n",
      "Problem: \n",
      "- Name: unknown\n",
      "  Lower bound: 395298.108\n",
      "  Upper bound: 395298.108\n",
      "  Number of objectives: 1\n",
      "  Number of constraints: 39\n",
      "  Number of variables: 32\n",
      "  Number of nonzeros: 72\n",
      "  Sense: minimize\n",
      "# ----------------------------------------------------------\n",
      "#   Solver Information\n",
      "# ----------------------------------------------------------\n",
      "Solver: \n",
      "- Status: ok\n",
      "  Termination condition: optimal\n",
      "  Statistics: \n",
      "    Branch and bound: \n",
      "      Number of bounded subproblems: 0\n",
      "      Number of created subproblems: 0\n",
      "  Error rc: 0\n",
      "  Time: 0.05657553672790527\n",
      "# ----------------------------------------------------------\n",
      "#   Solution Information\n",
      "# ----------------------------------------------------------\n",
      "Solution: \n",
      "- number of solutions: 0\n",
      "  number of solutions displayed: 0\n"
     ]
    }
   ],
   "source": [
    "m= APeakFallED()\n",
    "SolverFactory('glpk',executable='D:\\download\\glpk-4.65\\w64\\glpsol.exe').solve(m).write()"
   ]
  },
  {
   "cell_type": "code",
   "execution_count": 43,
   "id": "d859040e",
   "metadata": {},
   "outputs": [
    {
     "name": "stdout",
     "output_type": "stream",
     "text": [
      "SOLUTION-Average fall peak hour\n",
      "The total system cost is = $ 395298.1080000001\n",
      "Generation in MW\n",
      "generator  1 = 0.00 \n",
      "generator  2 = 0.00 \n",
      "generator  3 = 0.00 \n",
      "generator  4 = 292.15 \n",
      "generator  5 = 0.00 \n",
      "generator  6 = 0.00 \n",
      "generator  7 = 0.00 \n",
      "generator  8 = 423.50 \n",
      "generator  9 = 697.90 \n",
      "generator 10 = 697.90 \n",
      "generator 11 = 0.00 \n",
      "generator 12 = 920.00 \n",
      "generator 13 = 0.00 \n",
      "generator 14 = 0.00 \n",
      "generator 15 = 977.50 \n",
      "generator 16 = 2244.80 \n",
      "generator 17 = 730.00 \n",
      "generator 18 = 271.20 \n",
      "generator 19 = 979.70 \n",
      "generator 20 = 670.00 \n",
      "generator 21 = 2337.70 \n",
      "generator 22 = 2425.00 \n",
      "generator 23 = 2716.00 \n",
      "generator 24 = 2795.73 \n",
      "generator 25 = 745.54 \n",
      "generator 26 = 922.37 \n",
      "generator 27 = 0.00 \n",
      "generator 28 = 0.00 \n",
      "Flow on transmission lines in MW\n",
      "line  1 = 634.83 \n",
      "line  2 = -90.87 \n",
      "line  3 = -543.97 \n",
      "LMPs in $/MWh\n",
      "Node  1 = 35.00\n",
      "Node  2 = 35.00\n",
      "Node  3 = 35.00\n"
     ]
    }
   ],
   "source": [
    "print('SOLUTION-Average fall peak hour')\n",
    "print('The total system cost is = $',m.system_cost())\n",
    "print('Generation in MW')\n",
    "for g in G:\n",
    "        print(\"generator {0:2d} = {1:.2f} \".format(g+1, m.p[g]()))\n",
    "print('Flow on transmission lines in MW')\n",
    "for l in L:\n",
    "        print(\"line {0:2d} = {1:.2f} \".format(l+1, m.flow[l]()))\n",
    "print('LMPs in $/MWh')\n",
    "for n in N:\n",
    "        print(\"Node {0:2d} = {1:.2f}\".format(n+1,m.dual[m.NodePowerBalanceConstraint[n]]))"
   ]
  },
  {
   "cell_type": "code",
   "execution_count": 25,
   "id": "e22127a6",
   "metadata": {},
   "outputs": [],
   "source": [
    "#UC MODEL of Average fall offpeak hour\n",
    "def AOffPeakFallED():\n",
    "    m=ConcreteModel()\n",
    "    #m.dual = Suffix(direction=Suffix.IMPORT_EXPORT)\n",
    "    m.dual = Suffix(direction=Suffix.IMPORT)#Create a 'dual' suffix component on the instance so the solver plugin will know which suffixes to collect\n",
    "    m.N=Set(initialize=N)\n",
    "    m.L=Set(initialize=L)\n",
    "    m.G=Set(initialize=G)\n",
    "    m.p=Var(m.G, bounds = (0,3500))#This is power generation. Could also declare as m.p=Var(m.G,within=PositiveReals)\n",
    "    m.flow=Var(m.L, bounds = (-1000,1000))#This is power flow on a line\n",
    "    m.system_cost=Objective(expr=sum(m.p[g]*VarCost[g] for g in m.G), sense=minimize)#Objective is to minimize costs\n",
    "    m.MaxGeneration=Constraint(m.G, rule=lambda m, g:  m.p[g] <= PMax[g])\n",
    "    m.NodePowerBalanceConstraint=Constraint(m.N, rule=lambda m, n: sum(LineToBus[l,n]*m.flow[l] for l in L)-sum(LineFromBus[l,n]*m.flow[l] for l in L)+sum(GeneratorInBus[g,n]*m.p[g] for g in G) == AOffPeakFallDemand[n])\n",
    "    m.KVLAroundLoopConstraint=Constraint(rule=lambda m: sum(LineReactance[l]*m.flow[l] for l in L)==0)#Note that in the data we defined the lines L1-2, L2-3, and L3,1 . That way the coefficient of each one in the KVL loop is positive 1.\n",
    "    m.MaxFlow=Constraint(m.L, rule=lambda m, l:  m.flow[l] <= LineCapacity[l])\n",
    "    m.MaxCounterFlow=Constraint(m.L, rule=lambda m, l:  m.flow[l] >= -LineCapacity[l])\n",
    "    return m"
   ]
  },
  {
   "cell_type": "code",
   "execution_count": 44,
   "id": "49ae3375",
   "metadata": {},
   "outputs": [
    {
     "name": "stdout",
     "output_type": "stream",
     "text": [
      "# ==========================================================\n",
      "# = Solver Results                                         =\n",
      "# ==========================================================\n",
      "# ----------------------------------------------------------\n",
      "#   Problem Information\n",
      "# ----------------------------------------------------------\n",
      "Problem: \n",
      "- Name: unknown\n",
      "  Lower bound: 324087.053\n",
      "  Upper bound: 324087.053\n",
      "  Number of objectives: 1\n",
      "  Number of constraints: 39\n",
      "  Number of variables: 32\n",
      "  Number of nonzeros: 72\n",
      "  Sense: minimize\n",
      "# ----------------------------------------------------------\n",
      "#   Solver Information\n",
      "# ----------------------------------------------------------\n",
      "Solver: \n",
      "- Status: ok\n",
      "  Termination condition: optimal\n",
      "  Statistics: \n",
      "    Branch and bound: \n",
      "      Number of bounded subproblems: 0\n",
      "      Number of created subproblems: 0\n",
      "  Error rc: 0\n",
      "  Time: 0.06478691101074219\n",
      "# ----------------------------------------------------------\n",
      "#   Solution Information\n",
      "# ----------------------------------------------------------\n",
      "Solution: \n",
      "- number of solutions: 0\n",
      "  number of solutions displayed: 0\n"
     ]
    }
   ],
   "source": [
    "m= AOffPeakFallED()\n",
    "SolverFactory('glpk',executable='D:\\download\\glpk-4.65\\w64\\glpsol.exe').solve(m).write()"
   ]
  },
  {
   "cell_type": "code",
   "execution_count": 45,
   "id": "1d1aae42",
   "metadata": {
    "scrolled": false
   },
   "outputs": [
    {
     "name": "stdout",
     "output_type": "stream",
     "text": [
      "SOLUTION-Average fall offpeak hour\n",
      "The total system cost is = $ 324087.053\n",
      "Generation in MW\n",
      "generator  1 = 0.00 \n",
      "generator  2 = 0.00 \n",
      "generator  3 = 0.00 \n",
      "generator  4 = 0.00 \n",
      "generator  5 = 0.00 \n",
      "generator  6 = 0.00 \n",
      "generator  7 = 0.00 \n",
      "generator  8 = 0.00 \n",
      "generator  9 = 697.90 \n",
      "generator 10 = 697.90 \n",
      "generator 11 = 0.00 \n",
      "generator 12 = 920.00 \n",
      "generator 13 = 0.00 \n",
      "generator 14 = 0.00 \n",
      "generator 15 = 707.05 \n",
      "generator 16 = 2244.80 \n",
      "generator 17 = 730.00 \n",
      "generator 18 = 0.00 \n",
      "generator 19 = 0.00 \n",
      "generator 20 = 670.00 \n",
      "generator 21 = 2337.70 \n",
      "generator 22 = 2425.00 \n",
      "generator 23 = 2716.00 \n",
      "generator 24 = 2795.73 \n",
      "generator 25 = 745.54 \n",
      "generator 26 = 922.37 \n",
      "generator 27 = 0.00 \n",
      "generator 28 = 0.00 \n",
      "Flow on transmission lines in MW\n",
      "line  1 = 404.38 \n",
      "line  2 = 122.73 \n",
      "line  3 = -527.12 \n",
      "LMPs in $/MWh\n",
      "Node  1 = 30.00\n",
      "Node  2 = 30.00\n",
      "Node  3 = 30.00\n"
     ]
    }
   ],
   "source": [
    "print('SOLUTION-Average fall offpeak hour')\n",
    "print('The total system cost is = $',m.system_cost())\n",
    "print('Generation in MW')\n",
    "for g in G:\n",
    "        print(\"generator {0:2d} = {1:.2f} \".format(g+1, m.p[g]()))\n",
    "print('Flow on transmission lines in MW')\n",
    "for l in L:\n",
    "        print(\"line {0:2d} = {1:.2f} \".format(l+1, m.flow[l]()))\n",
    "print('LMPs in $/MWh')\n",
    "for n in N:\n",
    "        print(\"Node {0:2d} = {1:.2f}\".format(n+1,m.dual[m.NodePowerBalanceConstraint[n]]))"
   ]
  },
  {
   "cell_type": "code",
   "execution_count": 59,
   "id": "729f6be6",
   "metadata": {},
   "outputs": [],
   "source": [
    "#UC MODEL of Average spring peak hour\n",
    "def APeakSpringED():\n",
    "    m=ConcreteModel()\n",
    "    #m.dual = Suffix(direction=Suffix.IMPORT_EXPORT)\n",
    "    m.dual = Suffix(direction=Suffix.IMPORT)#Create a 'dual' suffix component on the instance so the solver plugin will know which suffixes to collect\n",
    "    m.N=Set(initialize=N)\n",
    "    m.L=Set(initialize=L)\n",
    "    m.G=Set(initialize=G)\n",
    "    m.p=Var(m.G, bounds = (0,3500))#This is power generation. Could also declare as m.p=Var(m.G,within=PositiveReals)\n",
    "    m.flow=Var(m.L, bounds = (-1000,1000))#This is power flow on a line\n",
    "    m.system_cost=Objective(expr=sum(m.p[g]*VarCost[g] for g in m.G), sense=minimize)#Objective is to minimize costs\n",
    "    m.MaxGeneration=Constraint(m.G, rule=lambda m, g:  m.p[g] <= SpringPMax[g])\n",
    "    m.NodePowerBalanceConstraint=Constraint(m.N, rule=lambda m, n: sum(LineToBus[l,n]*m.flow[l] for l in L)-sum(LineFromBus[l,n]*m.flow[l] for l in L)+sum(GeneratorInBus[g,n]*m.p[g] for g in G) == APeakSpringDemand[n])\n",
    "    m.KVLAroundLoopConstraint=Constraint(rule=lambda m: sum(LineReactance[l]*m.flow[l] for l in L)==0)#Note that in the data we defined the lines L1-2, L2-3, and L3,1 . That way the coefficient of each one in the KVL loop is positive 1.\n",
    "    m.MaxFlow=Constraint(m.L, rule=lambda m, l:  m.flow[l] <= LineCapacity[l])\n",
    "    m.MaxCounterFlow=Constraint(m.L, rule=lambda m, l:  m.flow[l] >= -LineCapacity[l])\n",
    "    return m\n"
   ]
  },
  {
   "cell_type": "code",
   "execution_count": 60,
   "id": "5233f68b",
   "metadata": {},
   "outputs": [
    {
     "name": "stdout",
     "output_type": "stream",
     "text": [
      "# ==========================================================\n",
      "# = Solver Results                                         =\n",
      "# ==========================================================\n",
      "# ----------------------------------------------------------\n",
      "#   Problem Information\n",
      "# ----------------------------------------------------------\n",
      "Problem: \n",
      "- Name: unknown\n",
      "  Lower bound: 485668.9\n",
      "  Upper bound: 485668.9\n",
      "  Number of objectives: 1\n",
      "  Number of constraints: 39\n",
      "  Number of variables: 32\n",
      "  Number of nonzeros: 72\n",
      "  Sense: minimize\n",
      "# ----------------------------------------------------------\n",
      "#   Solver Information\n",
      "# ----------------------------------------------------------\n",
      "Solver: \n",
      "- Status: ok\n",
      "  Termination condition: optimal\n",
      "  Statistics: \n",
      "    Branch and bound: \n",
      "      Number of bounded subproblems: 0\n",
      "      Number of created subproblems: 0\n",
      "  Error rc: 0\n",
      "  Time: 0.04108905792236328\n",
      "# ----------------------------------------------------------\n",
      "#   Solution Information\n",
      "# ----------------------------------------------------------\n",
      "Solution: \n",
      "- number of solutions: 0\n",
      "  number of solutions displayed: 0\n"
     ]
    }
   ],
   "source": [
    "m= APeakSpringED()\n",
    "SolverFactory('glpk',executable='D:\\download\\glpk-4.65\\w64\\glpsol.exe').solve(m).write()"
   ]
  },
  {
   "cell_type": "code",
   "execution_count": 61,
   "id": "4695de1b",
   "metadata": {
    "scrolled": false
   },
   "outputs": [
    {
     "name": "stdout",
     "output_type": "stream",
     "text": [
      "SOLUTION-Average spring peak hour\n",
      "The total system cost is = $ 485668.9\n",
      "Generation in MW\n",
      "generator  1 = 0.00 \n",
      "generator  2 = 0.00 \n",
      "generator  3 = 1908.25 \n",
      "generator  4 = 1530.50 \n",
      "generator  5 = 0.00 \n",
      "generator  6 = 0.00 \n",
      "generator  7 = 753.70 \n",
      "generator  8 = 423.50 \n",
      "generator  9 = 697.90 \n",
      "generator 10 = 697.90 \n",
      "generator 11 = 0.00 \n",
      "generator 12 = 920.00 \n",
      "generator 13 = 0.00 \n",
      "generator 14 = 799.20 \n",
      "generator 15 = 977.50 \n",
      "generator 16 = 2244.80 \n",
      "generator 17 = 730.00 \n",
      "generator 18 = 271.20 \n",
      "generator 19 = 979.70 \n",
      "generator 20 = 670.00 \n",
      "generator 21 = 1205.00 \n",
      "generator 22 = 1250.00 \n",
      "generator 23 = 1400.00 \n",
      "generator 24 = 1441.10 \n",
      "generator 25 = 384.30 \n",
      "generator 26 = 475.45 \n",
      "generator 27 = 0.00 \n",
      "generator 28 = 0.00 \n",
      "Flow on transmission lines in MW\n",
      "line  1 = -318.25 \n",
      "line  2 = 900.00 \n",
      "line  3 = -581.75 \n",
      "LMPs in $/MWh\n",
      "Node  1 = 37.50\n",
      "Node  2 = 37.00\n",
      "Node  3 = 38.00\n"
     ]
    }
   ],
   "source": [
    "print('SOLUTION-Average spring peak hour')\n",
    "print('The total system cost is = $',m.system_cost())\n",
    "print('Generation in MW')\n",
    "for g in G:\n",
    "        print(\"generator {0:2d} = {1:.2f} \".format(g+1, m.p[g]()))\n",
    "print('Flow on transmission lines in MW')\n",
    "for l in L:\n",
    "        print(\"line {0:2d} = {1:.2f} \".format(l+1, m.flow[l]()))\n",
    "print('LMPs in $/MWh')\n",
    "for n in N:\n",
    "        print(\"Node {0:2d} = {1:.2f}\".format(n+1,m.dual[m.NodePowerBalanceConstraint[n]]))"
   ]
  },
  {
   "cell_type": "code",
   "execution_count": 62,
   "id": "df41cb24",
   "metadata": {},
   "outputs": [],
   "source": [
    "#UC MODEL of Average spring peak hour\n",
    "def APeakOffSpringED():\n",
    "    m=ConcreteModel()\n",
    "    #m.dual = Suffix(direction=Suffix.IMPORT_EXPORT)\n",
    "    m.dual = Suffix(direction=Suffix.IMPORT)#Create a 'dual' suffix component on the instance so the solver plugin will know which suffixes to collect\n",
    "    m.N=Set(initialize=N)\n",
    "    m.L=Set(initialize=L)\n",
    "    m.G=Set(initialize=G)\n",
    "    m.p=Var(m.G, bounds = (0,3500))#This is power generation. Could also declare as m.p=Var(m.G,within=PositiveReals)\n",
    "    m.flow=Var(m.L, bounds = (-1000,1000))#This is power flow on a line\n",
    "    m.system_cost=Objective(expr=sum(m.p[g]*VarCost[g] for g in m.G), sense=minimize)#Objective is to minimize costs\n",
    "    m.MaxGeneration=Constraint(m.G, rule=lambda m, g:  m.p[g] <= SpringPMax[g])\n",
    "    m.NodePowerBalanceConstraint=Constraint(m.N, rule=lambda m, n: sum(LineToBus[l,n]*m.flow[l] for l in L)-sum(LineFromBus[l,n]*m.flow[l] for l in L)+sum(GeneratorInBus[g,n]*m.p[g] for g in G) == AOffPeakSpringDemand[n])\n",
    "    m.KVLAroundLoopConstraint=Constraint(rule=lambda m: sum(LineReactance[l]*m.flow[l] for l in L)==0)#Note that in the data we defined the lines L1-2, L2-3, and L3,1 . That way the coefficient of each one in the KVL loop is positive 1.\n",
    "    m.MaxFlow=Constraint(m.L, rule=lambda m, l:  m.flow[l] <= LineCapacity[l])\n",
    "    m.MaxCounterFlow=Constraint(m.L, rule=lambda m, l:  m.flow[l] >= -LineCapacity[l])\n",
    "    return m"
   ]
  },
  {
   "cell_type": "code",
   "execution_count": 63,
   "id": "18ff9bab",
   "metadata": {},
   "outputs": [
    {
     "name": "stdout",
     "output_type": "stream",
     "text": [
      "# ==========================================================\n",
      "# = Solver Results                                         =\n",
      "# ==========================================================\n",
      "# ----------------------------------------------------------\n",
      "#   Problem Information\n",
      "# ----------------------------------------------------------\n",
      "Problem: \n",
      "- Name: unknown\n",
      "  Lower bound: 341557.1\n",
      "  Upper bound: 341557.1\n",
      "  Number of objectives: 1\n",
      "  Number of constraints: 39\n",
      "  Number of variables: 32\n",
      "  Number of nonzeros: 72\n",
      "  Sense: minimize\n",
      "# ----------------------------------------------------------\n",
      "#   Solver Information\n",
      "# ----------------------------------------------------------\n",
      "Solver: \n",
      "- Status: ok\n",
      "  Termination condition: optimal\n",
      "  Statistics: \n",
      "    Branch and bound: \n",
      "      Number of bounded subproblems: 0\n",
      "      Number of created subproblems: 0\n",
      "  Error rc: 0\n",
      "  Time: 0.05663561820983887\n",
      "# ----------------------------------------------------------\n",
      "#   Solution Information\n",
      "# ----------------------------------------------------------\n",
      "Solution: \n",
      "- number of solutions: 0\n",
      "  number of solutions displayed: 0\n"
     ]
    }
   ],
   "source": [
    "m= APeakOffSpringED()\n",
    "SolverFactory('glpk',executable='D:\\download\\glpk-4.65\\w64\\glpsol.exe').solve(m).write()"
   ]
  },
  {
   "cell_type": "code",
   "execution_count": 64,
   "id": "84e6740b",
   "metadata": {},
   "outputs": [
    {
     "name": "stdout",
     "output_type": "stream",
     "text": [
      "SOLUTION-Average spring offpeak hour\n",
      "The total system cost is = $ 341557.10000000003\n",
      "Generation in MW\n",
      "generator  1 = 0.00 \n",
      "generator  2 = 0.00 \n",
      "generator  3 = 0.00 \n",
      "generator  4 = 1070.65 \n",
      "generator  5 = 0.00 \n",
      "generator  6 = 0.00 \n",
      "generator  7 = 0.00 \n",
      "generator  8 = 423.50 \n",
      "generator  9 = 697.90 \n",
      "generator 10 = 697.90 \n",
      "generator 11 = 0.00 \n",
      "generator 12 = 920.00 \n",
      "generator 13 = 0.00 \n",
      "generator 14 = 0.00 \n",
      "generator 15 = 977.50 \n",
      "generator 16 = 2244.80 \n",
      "generator 17 = 730.00 \n",
      "generator 18 = 271.20 \n",
      "generator 19 = 979.70 \n",
      "generator 20 = 670.00 \n",
      "generator 21 = 1205.00 \n",
      "generator 22 = 1250.00 \n",
      "generator 23 = 1400.00 \n",
      "generator 24 = 1441.10 \n",
      "generator 25 = 384.30 \n",
      "generator 26 = 475.45 \n",
      "generator 27 = 0.00 \n",
      "generator 28 = 0.00 \n",
      "Flow on transmission lines in MW\n",
      "line  1 = 410.77 \n",
      "line  2 = 226.17 \n",
      "line  3 = -636.93 \n",
      "LMPs in $/MWh\n",
      "Node  1 = 35.00\n",
      "Node  2 = 35.00\n",
      "Node  3 = 35.00\n"
     ]
    }
   ],
   "source": [
    "print('SOLUTION-Average spring offpeak hour')\n",
    "print('The total system cost is = $',m.system_cost())\n",
    "print('Generation in MW')\n",
    "for g in G:\n",
    "        print(\"generator {0:2d} = {1:.2f} \".format(g+1, m.p[g]()))\n",
    "print('Flow on transmission lines in MW')\n",
    "for l in L:\n",
    "        print(\"line {0:2d} = {1:.2f} \".format(l+1, m.flow[l]()))\n",
    "print('LMPs in $/MWh')\n",
    "for n in N:\n",
    "        print(\"Node {0:2d} = {1:.2f}\".format(n+1,m.dual[m.NodePowerBalanceConstraint[n]]))"
   ]
  }
 ],
 "metadata": {
  "kernelspec": {
   "display_name": "Python 3 (ipykernel)",
   "language": "python",
   "name": "python3"
  },
  "language_info": {
   "codemirror_mode": {
    "name": "ipython",
    "version": 3
   },
   "file_extension": ".py",
   "mimetype": "text/x-python",
   "name": "python",
   "nbconvert_exporter": "python",
   "pygments_lexer": "ipython3",
   "version": "3.9.13"
  }
 },
 "nbformat": 4,
 "nbformat_minor": 5
}
